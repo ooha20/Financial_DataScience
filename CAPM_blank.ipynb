{
 "cells": [
  {
   "cell_type": "markdown",
   "metadata": {},
   "source": [
    "# Asset Pricing"
   ]
  },
  {
   "cell_type": "markdown",
   "metadata": {},
   "source": [
    "Financial investment decision is a function of risk and return, which are positively related to each other. Investor tries to obtain highest possible return while mitigating the risk as much as possible. So, in a nutshell, investor tend to invest in an asset with best risk-return combination. But the question is how can we estimate the best risk-return combination?"
   ]
  },
  {
   "cell_type": "markdown",
   "metadata": {},
   "source": [
    "This lesson tries to tackle this question using two celebrated models. In this part of the lesson, we will discuss the two prominent models about asset valuation: \n",
    "* Capital Asset Pricing Model\n",
    "* Arbitrage Pricing Theorem"
   ]
  },
  {
   "cell_type": "markdown",
   "metadata": {},
   "source": [
    "## Capital Asset Pricing Model (CAPM) "
   ]
  },
  {
   "cell_type": "markdown",
   "metadata": {},
   "source": [
    "It is an easy task to measure return of an asset, which is nothing but a change in an asset's value based on previous period. How about risk? It is exactly where `Markowitz's Portfolio Theory`comes into the picture. Markowitz's article titled [\"Portfolio Selection\"](https://www.math.ust.hk/~maykwok/courses/ma362/07F/markowitz_JF.pdf) provides a clear definition of what had hitherto been unambiguous. "
   ]
  },
  {
   "cell_type": "markdown",
   "metadata": {},
   "source": [
    "This trade-off is defined as the selection problem of the portfolio mean and variance of the assets, and given the risk level the theory has suggested that high expected return should be selected. Expected return and risk are given as follows:"
   ]
  },
  {
   "cell_type": "markdown",
   "metadata": {},
   "source": [
    "\\begin{equation} \\text{Expected Return}=\\mathbb{E}(R_i)\\end{equation}\n",
    "\\begin{equation}\\text{Risk}=\\sigma (R_i)\\end{equation}"
   ]
  },
  {
   "cell_type": "markdown",
   "metadata": {},
   "source": [
    "where $R_i$ is the return of ith asset and $\\mathbb{E}$ denotes expectation operator, and $\\sigma$ represents the standard deviation of return. Thus, standard deviation is assumed to be a risk of an asset and this approach paves the way for further analysis."
   ]
  },
  {
   "cell_type": "markdown",
   "metadata": {},
   "source": [
    "Starting with Markowitz's contribution, risk-return relationship of an asset is well-founded as new approaches emerges. Of these approaches. Capital Asset Pricing Model is the one of the most prominents one."
   ]
  },
  {
   "cell_type": "markdown",
   "metadata": {},
   "source": [
    "The CAPM is based on the idea that the individual investor can make a combination between the borrower portfolios and the lender portfolios, to organize his own risk and to create an optimal portfolio among the risky assets. CAPM, suggested by [Sharpe (1964)](http://efinance.org.cn/cn/fm/Capital%20Asset%20Prices%20A%20Theory%20of%20Market%20Equilibrium%20under%20Conditions%20of%20Risk.pdf), [Lintner (1965)](http://www.empirical.net/wp-content/uploads/2014/12/Lintner-The-Valuation-of-Risk-Assets-and-the-Selection-of-Risky-Investments-in-Stock-Portfolios-and-Capital-Budgets.pdf), and [Black (1972)](http://www.stat.ucla.edu/~nchristo/statistics_c183_c283/fischer_black_trace_out.pdf) , is a model investigating the systematic risk and return in a competitive market. "
   ]
  },
  {
   "cell_type": "markdown",
   "metadata": {},
   "source": [
    "As we have discussed, the primary motivation of an investor in forming a best risk-return portfolio is to mitigate the risk while having highest return but it is not possible to make all risks go away. That is to say, there are some risks that an investor can mitigate and some he/she cannot. By diversification, which is simply forming a portfolio with assets having high risk-return relationship and with assets having low risk-return relationship, the risk can be reduced to certain level. But what is this level?"
   ]
  },
  {
   "cell_type": "markdown",
   "metadata": {},
   "source": [
    "In order to better understand and handle the risk in finance, we need to differentiate it:\n",
    "* Systematic Risk: It is the risk that cannot be disappeared by diversification. Therefore it is also referred to as `non-diversifiable risk`.  More specifically, random fluctuations in the value of an asset can be balanced out by holding diverse assets. Some systematic risks are:\n",
    "    * Interest rate risk\n",
    "    * Inflation risk\n",
    "    * Market risk"
   ]
  },
  {
   "cell_type": "markdown",
   "metadata": {},
   "source": [
    "* Unsystematic Risk: It is the risk that can be mitigated through diversification. That is random fluctuations in the value of the asset can be balanced out by holding many different assets. Therefore, when a portfolio is well-diversified, investments with a strong performance compensate for the negative results from poorly performing investments.  Unsystematic risk arises from stock-specific issues. Some unsystematic risks can be listed as:\n",
    "    * Business risk: Any Internal weakness of a company can jeopardize its profitability\n",
    "    * Financial risk: Change in capital structure allocation of a company\n",
    "    * Entrance of a new competitor"
   ]
  },
  {
   "cell_type": "markdown",
   "metadata": {},
   "source": [
    "CAPM examines the systematic risk ($\\beta$) and expected return in a competitive market. It is a parametric and univariate approach. The ultimate aim of this method is to price an individual security or a portfolio. Let's now talk about the components and the formula of CAPM:"
   ]
  },
  {
   "cell_type": "markdown",
   "metadata": {},
   "source": [
    "\\begin{equation}\\mathbb{E}(R_i)=\\alpha_i+\\beta_i\\mathbb{E}(R_m)\\end{equation}"
   ]
  },
  {
   "cell_type": "markdown",
   "metadata": {},
   "source": [
    "where\n",
    " * $R_i$: Expected excess return of the $i^{th}$ stock\n",
    " * $\\alpha_i$: asset’s return-loss coming from technical analysis\n",
    " * $R_m$: Expected excess market return\n",
    " * $\\beta_{i}$: Slope coefficient\n",
    " "
   ]
  },
  {
   "cell_type": "markdown",
   "metadata": {},
   "source": [
    "Here, excess return represents the portion of an individual stock or market return above the `risk free rate`. Or it can be formulated as:"
   ]
  },
  {
   "cell_type": "markdown",
   "metadata": {},
   "source": [
    "\\begin{equation} \\mathbb{E}(R_i)=\\mathbb{E}(r_i)-r_f \\end{equation}"
   ]
  },
  {
   "cell_type": "markdown",
   "metadata": {},
   "source": [
    "where $r_f$ is risk free rate and $r_i$ is the individual stock return. So, excess return checks if an asset yields  larger return than a safe asset. If so, it is a motivation to invest, otherwise, investor prefer to invest in a safe asset whose return is low but guaranteed."
   ]
  },
  {
   "cell_type": "markdown",
   "metadata": {},
   "source": [
    "The result, denoted as $\\mathbb{E}(R_i)$, is also the required return or discount rate used in valuing an asset or a project that we discuss in NPV lesson:"
   ]
  },
  {
   "cell_type": "markdown",
   "metadata": {},
   "source": [
    "Required Rate of Return = Risk Free Rate of Return + Beta*(Market Return – Risk Free Rate of Return)"
   ]
  },
  {
   "cell_type": "markdown",
   "metadata": {},
   "source": [
    "We need to put special emphasize on $\\beta$, which shows the extent to which an investment adds risk to a portfolio. Put differently, it is a measure of systematic risk of a stock in comparison to the market. It is also indicates the correlation between individual stock and market: \n",
    "\n"
   ]
  },
  {
   "cell_type": "markdown",
   "metadata": {},
   "source": [
    "* If the $\\beta$>1, stock is riskier than the benchmark market\n",
    "* If the $\\beta$=1, stock is as riskier as the benchmark market\n",
    "* If the $\\beta$<1, stock is less riskier than the benchmark market"
   ]
  },
  {
   "cell_type": "markdown",
   "metadata": {},
   "source": [
    "Hence, beta coefficient indicates the ratio between the covariance of individual stock return and market return and the stock market return variance:"
   ]
  },
  {
   "cell_type": "markdown",
   "metadata": {},
   "source": [
    "\\begin{equation}\\beta_i = \\frac{\\text{Cov}(r_i, r_m)}{\\text{Var}(r_m)}\\end{equation}"
   ]
  },
  {
   "cell_type": "markdown",
   "metadata": {},
   "source": [
    "In econometrical approach, CAPM can be defined as:"
   ]
  },
  {
   "cell_type": "markdown",
   "metadata": {},
   "source": [
    "\\begin{equation}\n",
    "\\mathbb{E}(r_i)-r_f= \\alpha_i + \\beta_{i}(\\mathbb{E}(r_m)-r_f) + \\epsilon_i\n",
    "\\end{equation}"
   ]
  },
  {
   "cell_type": "markdown",
   "metadata": {},
   "source": [
    "where\n",
    " * $\\epsilon_i$: Error term"
   ]
  },
  {
   "cell_type": "markdown",
   "metadata": {},
   "source": [
    "As a final note for this theoretical discussion, I would like to name a few pros and cons of CAPM approach:"
   ]
  },
  {
   "cell_type": "markdown",
   "metadata": {},
   "source": [
    "**Pros**"
   ]
  },
  {
   "cell_type": "markdown",
   "metadata": {},
   "source": [
    "* Ease of use\n",
    "\n",
    "* Diversified Portfolio: The assumption that investors have a diversified portfolio similar to the market portfolio eliminates the non-systematic (specific) risk.\n",
    "\n",
    "* CAPM takes into account systematic risk\n",
    "\n",
    "* CAPM can be used as a model to account for the business and financial risk variability"
   ]
  },
  {
   "cell_type": "markdown",
   "metadata": {},
   "source": [
    "**Cons**"
   ]
  },
  {
   "cell_type": "markdown",
   "metadata": {},
   "source": [
    "* The proxy used for risk free rate  is subject to change and open to discussion.\n",
    "* A risk-free borrowing capability is far from being realistic\n",
    "* Using CAPM to evaluate an investment must find a suitable beta for the project or investment to correctly evaluate it."
   ]
  },
  {
   "cell_type": "markdown",
   "metadata": {},
   "source": [
    "In this part, instead of visiting a website and downloading the data to our local computer, we directly access to `yahoo finance` and retrieve the data as  we have learned in the previous lesson. To compare the performance of the companies, we will run CAPM analyses with three difference companies operating in telecomunication sector. These companies are `Apple`, `Microsoft`, `Intel` and the market these stocks are listed is `S&P-500`. We use tickers to retreive data from yahoo finance:\n",
    " \n",
    " * AAPL: Apple\n",
    " * MSFT: Microsoft\n",
    " * INTC: Intel\n",
    " * ^GSPC: S&P-500"
   ]
  },
  {
   "cell_type": "code",
   "execution_count": 1,
   "metadata": {},
   "outputs": [
    {
     "name": "stderr",
     "output_type": "stream",
     "text": [
      "/opt/anaconda3/lib/python3.9/site-packages/scipy/__init__.py:146: UserWarning: A NumPy version >=1.16.5 and <1.23.0 is required for this version of SciPy (detected version 1.23.1\n",
      "  warnings.warn(f\"A NumPy version >={np_minversion} and <{np_maxversion}\"\n"
     ]
    }
   ],
   "source": [
    "import pandas as pd\n",
    "import matplotlib.pyplot as plt\n",
    "import numpy as np\n",
    "import datetime\n",
    "import seaborn as sns\n",
    "import warnings\n",
    "import yfinance as yf\n",
    "import seaborn as sns; sns.set()\n",
    "yf.pdr_override() \n",
    "%matplotlib inline\n",
    "warnings.filterwarnings('ignore')"
   ]
  },
  {
   "cell_type": "markdown",
   "metadata": {},
   "source": [
    "The analysis covers the business day for the period of 01-01-2021 and 08-01-2021 with daily stock price data."
   ]
  },
  {
   "cell_type": "code",
   "execution_count": 28,
   "metadata": {},
   "outputs": [
    {
     "name": "stdout",
     "output_type": "stream",
     "text": [
      "[*********************100%***********************]  4 of 4 completed\n"
     ]
    }
   ],
   "source": [
    "stocks = ['AAPL', 'MSFT', 'INTC', '^GSPC']\n",
    "start = datetime.datetime(2021,1,1)\n",
    "end = datetime.datetime(2021,8,1)\n",
    "port = yf.download(stocks, start=start, end=end, interval='1d')['Close']"
   ]
  },
  {
   "cell_type": "code",
   "execution_count": 3,
   "metadata": {},
   "outputs": [
    {
     "data": {
      "text/html": [
       "<div>\n",
       "<style scoped>\n",
       "    .dataframe tbody tr th:only-of-type {\n",
       "        vertical-align: middle;\n",
       "    }\n",
       "\n",
       "    .dataframe tbody tr th {\n",
       "        vertical-align: top;\n",
       "    }\n",
       "\n",
       "    .dataframe thead th {\n",
       "        text-align: right;\n",
       "    }\n",
       "</style>\n",
       "<table border=\"1\" class=\"dataframe\">\n",
       "  <thead>\n",
       "    <tr style=\"text-align: right;\">\n",
       "      <th></th>\n",
       "      <th>AAPL</th>\n",
       "      <th>INTC</th>\n",
       "      <th>MSFT</th>\n",
       "      <th>^GSPC</th>\n",
       "    </tr>\n",
       "    <tr>\n",
       "      <th>Date</th>\n",
       "      <th></th>\n",
       "      <th></th>\n",
       "      <th></th>\n",
       "      <th></th>\n",
       "    </tr>\n",
       "  </thead>\n",
       "  <tbody>\n",
       "    <tr>\n",
       "      <th>2020-12-31</th>\n",
       "      <td>132.690002</td>\n",
       "      <td>49.820000</td>\n",
       "      <td>222.419998</td>\n",
       "      <td>3756.070068</td>\n",
       "    </tr>\n",
       "    <tr>\n",
       "      <th>2021-01-04</th>\n",
       "      <td>129.410004</td>\n",
       "      <td>49.669998</td>\n",
       "      <td>217.690002</td>\n",
       "      <td>3700.649902</td>\n",
       "    </tr>\n",
       "    <tr>\n",
       "      <th>2021-01-05</th>\n",
       "      <td>131.009995</td>\n",
       "      <td>50.610001</td>\n",
       "      <td>217.899994</td>\n",
       "      <td>3726.860107</td>\n",
       "    </tr>\n",
       "    <tr>\n",
       "      <th>2021-01-06</th>\n",
       "      <td>126.599998</td>\n",
       "      <td>51.099998</td>\n",
       "      <td>212.250000</td>\n",
       "      <td>3748.139893</td>\n",
       "    </tr>\n",
       "    <tr>\n",
       "      <th>2021-01-07</th>\n",
       "      <td>130.919998</td>\n",
       "      <td>52.189999</td>\n",
       "      <td>218.289993</td>\n",
       "      <td>3803.790039</td>\n",
       "    </tr>\n",
       "  </tbody>\n",
       "</table>\n",
       "</div>"
      ],
      "text/plain": [
       "                  AAPL       INTC        MSFT        ^GSPC\n",
       "Date                                                      \n",
       "2020-12-31  132.690002  49.820000  222.419998  3756.070068\n",
       "2021-01-04  129.410004  49.669998  217.690002  3700.649902\n",
       "2021-01-05  131.009995  50.610001  217.899994  3726.860107\n",
       "2021-01-06  126.599998  51.099998  212.250000  3748.139893\n",
       "2021-01-07  130.919998  52.189999  218.289993  3803.790039"
      ]
     },
     "execution_count": 3,
     "metadata": {},
     "output_type": "execute_result"
    }
   ],
   "source": [
    "port.head()"
   ]
  },
  {
   "cell_type": "code",
   "execution_count": 35,
   "metadata": {},
   "outputs": [
    {
     "data": {
      "text/html": [
       "<div>\n",
       "<style scoped>\n",
       "    .dataframe tbody tr th:only-of-type {\n",
       "        vertical-align: middle;\n",
       "    }\n",
       "\n",
       "    .dataframe tbody tr th {\n",
       "        vertical-align: top;\n",
       "    }\n",
       "\n",
       "    .dataframe thead th {\n",
       "        text-align: right;\n",
       "    }\n",
       "</style>\n",
       "<table border=\"1\" class=\"dataframe\">\n",
       "  <thead>\n",
       "    <tr style=\"text-align: right;\">\n",
       "      <th></th>\n",
       "      <th>AAPL</th>\n",
       "      <th>INTC</th>\n",
       "      <th>MSFT</th>\n",
       "      <th>^GSPC</th>\n",
       "    </tr>\n",
       "    <tr>\n",
       "      <th>Date</th>\n",
       "      <th></th>\n",
       "      <th></th>\n",
       "      <th></th>\n",
       "      <th></th>\n",
       "    </tr>\n",
       "  </thead>\n",
       "  <tbody>\n",
       "    <tr>\n",
       "      <th>2021-07-26</th>\n",
       "      <td>148.990005</td>\n",
       "      <td>54.310001</td>\n",
       "      <td>289.049988</td>\n",
       "      <td>4422.299805</td>\n",
       "    </tr>\n",
       "    <tr>\n",
       "      <th>2021-07-27</th>\n",
       "      <td>146.770004</td>\n",
       "      <td>53.180000</td>\n",
       "      <td>286.540009</td>\n",
       "      <td>4401.459961</td>\n",
       "    </tr>\n",
       "    <tr>\n",
       "      <th>2021-07-28</th>\n",
       "      <td>144.979996</td>\n",
       "      <td>53.070000</td>\n",
       "      <td>286.220001</td>\n",
       "      <td>4400.640137</td>\n",
       "    </tr>\n",
       "    <tr>\n",
       "      <th>2021-07-29</th>\n",
       "      <td>145.639999</td>\n",
       "      <td>53.700001</td>\n",
       "      <td>286.500000</td>\n",
       "      <td>4419.149902</td>\n",
       "    </tr>\n",
       "    <tr>\n",
       "      <th>2021-07-30</th>\n",
       "      <td>145.860001</td>\n",
       "      <td>53.720001</td>\n",
       "      <td>284.910004</td>\n",
       "      <td>4395.259766</td>\n",
       "    </tr>\n",
       "  </tbody>\n",
       "</table>\n",
       "</div>"
      ],
      "text/plain": [
       "                  AAPL       INTC        MSFT        ^GSPC\n",
       "Date                                                      \n",
       "2021-07-26  148.990005  54.310001  289.049988  4422.299805\n",
       "2021-07-27  146.770004  53.180000  286.540009  4401.459961\n",
       "2021-07-28  144.979996  53.070000  286.220001  4400.640137\n",
       "2021-07-29  145.639999  53.700001  286.500000  4419.149902\n",
       "2021-07-30  145.860001  53.720001  284.910004  4395.259766"
      ]
     },
     "execution_count": 35,
     "metadata": {},
     "output_type": "execute_result"
    }
   ],
   "source": [
    "port.tail()"
   ]
  },
  {
   "cell_type": "code",
   "execution_count": 4,
   "metadata": {},
   "outputs": [
    {
     "data": {
      "text/plain": [
       "AAPL     0\n",
       "INTC     0\n",
       "MSFT     0\n",
       "^GSPC    0\n",
       "dtype: int64"
      ]
     },
     "execution_count": 4,
     "metadata": {},
     "output_type": "execute_result"
    }
   ],
   "source": [
    "port.isnull().sum()"
   ]
  },
  {
   "cell_type": "markdown",
   "metadata": {},
   "source": [
    "Summary statistics is a very first step to explore the dataset. Main statistics such as mean, standard deviation, minimum, maximum etc., can be calculated via `.describe()` in Python. Initial observation tells us that the price level and volatility (represented by standard deviation) of S&P-500 is quite different from the rest of the stocks."
   ]
  },
  {
   "cell_type": "code",
   "execution_count": 29,
   "metadata": {},
   "outputs": [
    {
     "data": {
      "text/html": [
       "<div>\n",
       "<style scoped>\n",
       "    .dataframe tbody tr th:only-of-type {\n",
       "        vertical-align: middle;\n",
       "    }\n",
       "\n",
       "    .dataframe tbody tr th {\n",
       "        vertical-align: top;\n",
       "    }\n",
       "\n",
       "    .dataframe thead th {\n",
       "        text-align: right;\n",
       "    }\n",
       "</style>\n",
       "<table border=\"1\" class=\"dataframe\">\n",
       "  <thead>\n",
       "    <tr style=\"text-align: right;\">\n",
       "      <th></th>\n",
       "      <th>AAPL</th>\n",
       "      <th>INTC</th>\n",
       "      <th>MSFT</th>\n",
       "      <th>^GSPC</th>\n",
       "    </tr>\n",
       "  </thead>\n",
       "  <tbody>\n",
       "    <tr>\n",
       "      <th>count</th>\n",
       "      <td>146.000000</td>\n",
       "      <td>146.000000</td>\n",
       "      <td>146.000000</td>\n",
       "      <td>146.000000</td>\n",
       "    </tr>\n",
       "    <tr>\n",
       "      <th>mean</th>\n",
       "      <td>131.323973</td>\n",
       "      <td>58.513973</td>\n",
       "      <td>248.635411</td>\n",
       "      <td>4073.771374</td>\n",
       "    </tr>\n",
       "    <tr>\n",
       "      <th>std</th>\n",
       "      <td>7.693556</td>\n",
       "      <td>3.984030</td>\n",
       "      <td>18.769386</td>\n",
       "      <td>200.226591</td>\n",
       "    </tr>\n",
       "    <tr>\n",
       "      <th>min</th>\n",
       "      <td>116.360001</td>\n",
       "      <td>49.669998</td>\n",
       "      <td>212.250000</td>\n",
       "      <td>3700.649902</td>\n",
       "    </tr>\n",
       "    <tr>\n",
       "      <th>25%</th>\n",
       "      <td>125.867500</td>\n",
       "      <td>55.959999</td>\n",
       "      <td>235.295006</td>\n",
       "      <td>3899.562561</td>\n",
       "    </tr>\n",
       "    <tr>\n",
       "      <th>50%</th>\n",
       "      <td>130.470001</td>\n",
       "      <td>57.480000</td>\n",
       "      <td>246.829994</td>\n",
       "      <td>4128.395020</td>\n",
       "    </tr>\n",
       "    <tr>\n",
       "      <th>75%</th>\n",
       "      <td>134.952503</td>\n",
       "      <td>61.977500</td>\n",
       "      <td>259.482498</td>\n",
       "      <td>4224.517578</td>\n",
       "    </tr>\n",
       "    <tr>\n",
       "      <th>max</th>\n",
       "      <td>149.149994</td>\n",
       "      <td>68.260002</td>\n",
       "      <td>289.670013</td>\n",
       "      <td>4422.299805</td>\n",
       "    </tr>\n",
       "  </tbody>\n",
       "</table>\n",
       "</div>"
      ],
      "text/plain": [
       "             AAPL        INTC        MSFT        ^GSPC\n",
       "count  146.000000  146.000000  146.000000   146.000000\n",
       "mean   131.323973   58.513973  248.635411  4073.771374\n",
       "std      7.693556    3.984030   18.769386   200.226591\n",
       "min    116.360001   49.669998  212.250000  3700.649902\n",
       "25%    125.867500   55.959999  235.295006  3899.562561\n",
       "50%    130.470001   57.480000  246.829994  4128.395020\n",
       "75%    134.952503   61.977500  259.482498  4224.517578\n",
       "max    149.149994   68.260002  289.670013  4422.299805"
      ]
     },
     "execution_count": 29,
     "metadata": {},
     "output_type": "execute_result"
    }
   ],
   "source": [
    "port.describe()"
   ]
  },
  {
   "cell_type": "markdown",
   "metadata": {},
   "source": [
    "As the caret sign `^` in the ticker of S&P-500 might cause problem in coding, I prefer rename this column before proceeding:"
   ]
  },
  {
   "cell_type": "code",
   "execution_count": 53,
   "metadata": {},
   "outputs": [],
   "source": [
    "port = port.rename({'^GSPC': 'GSPC'},axis='columns')"
   ]
  },
  {
   "cell_type": "markdown",
   "metadata": {},
   "source": [
    "Now, after having the return for three stock and one market index, extracting risk free rate allows us to compute excess return. To access the risk free rate data, we use `Fred API` as we have learned previosly. Please note that there is no single risk free rate, different researchers apply different risk free rate but the common property of these rates is that they are issued by a government, which makes them safe heaven to invest. Here, we select `3-Month Treasury Constant Maturity Rate`, which is short-term T-Bill with relatively low and safe return."
   ]
  },
  {
   "cell_type": "markdown",
   "metadata": {},
   "source": [
    "Practically speaking, risk-free rate is hypothetical term, because even the safest investments carry a very small amount of risk. However, it is not wrong to say that government-issued debt is much safer compared to comporate-issued one. That is being said, the interest rate on a three-month U.S. Treasury bill is useful proxy for the risk-free rate for U.S.-based investors. "
   ]
  },
  {
   "cell_type": "code",
   "execution_count": 19,
   "metadata": {},
   "outputs": [],
   "source": [
    "from fredapi import Fred\n",
    "fred = Fred(api_key='78b14ec6ba46f484b94db43694468bb1')#  my API key"
   ]
  },
  {
   "cell_type": "code",
   "execution_count": 20,
   "metadata": {},
   "outputs": [
    {
     "data": {
      "text/html": [
       "<div>\n",
       "<style scoped>\n",
       "    .dataframe tbody tr th:only-of-type {\n",
       "        vertical-align: middle;\n",
       "    }\n",
       "\n",
       "    .dataframe tbody tr th {\n",
       "        vertical-align: top;\n",
       "    }\n",
       "\n",
       "    .dataframe thead th {\n",
       "        text-align: right;\n",
       "    }\n",
       "</style>\n",
       "<table border=\"1\" class=\"dataframe\">\n",
       "  <thead>\n",
       "    <tr style=\"text-align: right;\">\n",
       "      <th></th>\n",
       "      <th>id</th>\n",
       "      <th>realtime_start</th>\n",
       "      <th>realtime_end</th>\n",
       "      <th>title</th>\n",
       "      <th>observation_start</th>\n",
       "      <th>observation_end</th>\n",
       "      <th>frequency</th>\n",
       "      <th>frequency_short</th>\n",
       "      <th>units</th>\n",
       "      <th>units_short</th>\n",
       "      <th>seasonal_adjustment</th>\n",
       "      <th>seasonal_adjustment_short</th>\n",
       "      <th>last_updated</th>\n",
       "      <th>popularity</th>\n",
       "      <th>notes</th>\n",
       "    </tr>\n",
       "    <tr>\n",
       "      <th>series id</th>\n",
       "      <th></th>\n",
       "      <th></th>\n",
       "      <th></th>\n",
       "      <th></th>\n",
       "      <th></th>\n",
       "      <th></th>\n",
       "      <th></th>\n",
       "      <th></th>\n",
       "      <th></th>\n",
       "      <th></th>\n",
       "      <th></th>\n",
       "      <th></th>\n",
       "      <th></th>\n",
       "      <th></th>\n",
       "      <th></th>\n",
       "    </tr>\n",
       "  </thead>\n",
       "  <tbody>\n",
       "    <tr>\n",
       "      <th>DGS10</th>\n",
       "      <td>DGS10</td>\n",
       "      <td>2023-02-22</td>\n",
       "      <td>2023-02-22</td>\n",
       "      <td>Market Yield on U.S. Treasury Securities at 10...</td>\n",
       "      <td>1962-01-02</td>\n",
       "      <td>2023-02-17</td>\n",
       "      <td>Daily</td>\n",
       "      <td>D</td>\n",
       "      <td>Percent</td>\n",
       "      <td>%</td>\n",
       "      <td>Not Seasonally Adjusted</td>\n",
       "      <td>NSA</td>\n",
       "      <td>2023-02-21 15:20:15-06:00</td>\n",
       "      <td>92</td>\n",
       "      <td>For further information regarding treasury con...</td>\n",
       "    </tr>\n",
       "    <tr>\n",
       "      <th>GS10</th>\n",
       "      <td>GS10</td>\n",
       "      <td>2023-02-22</td>\n",
       "      <td>2023-02-22</td>\n",
       "      <td>Market Yield on U.S. Treasury Securities at 10...</td>\n",
       "      <td>1953-04-01</td>\n",
       "      <td>2023-01-01</td>\n",
       "      <td>Monthly</td>\n",
       "      <td>M</td>\n",
       "      <td>Percent</td>\n",
       "      <td>%</td>\n",
       "      <td>Not Seasonally Adjusted</td>\n",
       "      <td>NSA</td>\n",
       "      <td>2023-02-01 15:21:11-06:00</td>\n",
       "      <td>73</td>\n",
       "      <td>Averages of business days. For further informa...</td>\n",
       "    </tr>\n",
       "    <tr>\n",
       "      <th>WGS10YR</th>\n",
       "      <td>WGS10YR</td>\n",
       "      <td>2023-02-22</td>\n",
       "      <td>2023-02-22</td>\n",
       "      <td>Market Yield on U.S. Treasury Securities at 10...</td>\n",
       "      <td>1962-01-05</td>\n",
       "      <td>2023-02-17</td>\n",
       "      <td>Weekly, Ending Friday</td>\n",
       "      <td>W</td>\n",
       "      <td>Percent</td>\n",
       "      <td>%</td>\n",
       "      <td>Not Seasonally Adjusted</td>\n",
       "      <td>NSA</td>\n",
       "      <td>2023-02-21 15:18:05-06:00</td>\n",
       "      <td>54</td>\n",
       "      <td>Averages of business days. For further informa...</td>\n",
       "    </tr>\n",
       "    <tr>\n",
       "      <th>DGS2</th>\n",
       "      <td>DGS2</td>\n",
       "      <td>2023-02-22</td>\n",
       "      <td>2023-02-22</td>\n",
       "      <td>Market Yield on U.S. Treasury Securities at 2-...</td>\n",
       "      <td>1976-06-01</td>\n",
       "      <td>2023-02-17</td>\n",
       "      <td>Daily</td>\n",
       "      <td>D</td>\n",
       "      <td>Percent</td>\n",
       "      <td>%</td>\n",
       "      <td>Not Seasonally Adjusted</td>\n",
       "      <td>NSA</td>\n",
       "      <td>2023-02-21 15:21:10-06:00</td>\n",
       "      <td>81</td>\n",
       "      <td>For further information regarding treasury con...</td>\n",
       "    </tr>\n",
       "    <tr>\n",
       "      <th>DGS1</th>\n",
       "      <td>DGS1</td>\n",
       "      <td>2023-02-22</td>\n",
       "      <td>2023-02-22</td>\n",
       "      <td>Market Yield on U.S. Treasury Securities at 1-...</td>\n",
       "      <td>1962-01-02</td>\n",
       "      <td>2023-02-17</td>\n",
       "      <td>Daily</td>\n",
       "      <td>D</td>\n",
       "      <td>Percent</td>\n",
       "      <td>%</td>\n",
       "      <td>Not Seasonally Adjusted</td>\n",
       "      <td>NSA</td>\n",
       "      <td>2023-02-21 15:21:08-06:00</td>\n",
       "      <td>80</td>\n",
       "      <td>For further information regarding treasury con...</td>\n",
       "    </tr>\n",
       "    <tr>\n",
       "      <th>GS2</th>\n",
       "      <td>GS2</td>\n",
       "      <td>2023-02-22</td>\n",
       "      <td>2023-02-22</td>\n",
       "      <td>Market Yield on U.S. Treasury Securities at 2-...</td>\n",
       "      <td>1976-06-01</td>\n",
       "      <td>2023-01-01</td>\n",
       "      <td>Monthly</td>\n",
       "      <td>M</td>\n",
       "      <td>Percent</td>\n",
       "      <td>%</td>\n",
       "      <td>Not Seasonally Adjusted</td>\n",
       "      <td>NSA</td>\n",
       "      <td>2023-02-01 15:21:20-06:00</td>\n",
       "      <td>45</td>\n",
       "      <td>Averages of business days. For further informa...</td>\n",
       "    </tr>\n",
       "    <tr>\n",
       "      <th>WGS2YR</th>\n",
       "      <td>WGS2YR</td>\n",
       "      <td>2023-02-22</td>\n",
       "      <td>2023-02-22</td>\n",
       "      <td>Market Yield on U.S. Treasury Securities at 2-...</td>\n",
       "      <td>1976-06-04</td>\n",
       "      <td>2023-02-17</td>\n",
       "      <td>Weekly, Ending Friday</td>\n",
       "      <td>W</td>\n",
       "      <td>Percent</td>\n",
       "      <td>%</td>\n",
       "      <td>Not Seasonally Adjusted</td>\n",
       "      <td>NSA</td>\n",
       "      <td>2023-02-21 15:18:10-06:00</td>\n",
       "      <td>37</td>\n",
       "      <td>Averages of business days. For further informa...</td>\n",
       "    </tr>\n",
       "    <tr>\n",
       "      <th>GS1</th>\n",
       "      <td>GS1</td>\n",
       "      <td>2023-02-22</td>\n",
       "      <td>2023-02-22</td>\n",
       "      <td>Market Yield on U.S. Treasury Securities at 1-...</td>\n",
       "      <td>1953-04-01</td>\n",
       "      <td>2023-01-01</td>\n",
       "      <td>Monthly</td>\n",
       "      <td>M</td>\n",
       "      <td>Percent</td>\n",
       "      <td>%</td>\n",
       "      <td>Not Seasonally Adjusted</td>\n",
       "      <td>NSA</td>\n",
       "      <td>2023-02-01 15:21:15-06:00</td>\n",
       "      <td>53</td>\n",
       "      <td>Averages of business days. For further informa...</td>\n",
       "    </tr>\n",
       "    <tr>\n",
       "      <th>WGS1YR</th>\n",
       "      <td>WGS1YR</td>\n",
       "      <td>2023-02-22</td>\n",
       "      <td>2023-02-22</td>\n",
       "      <td>Market Yield on U.S. Treasury Securities at 1-...</td>\n",
       "      <td>1962-01-05</td>\n",
       "      <td>2023-02-17</td>\n",
       "      <td>Weekly, Ending Friday</td>\n",
       "      <td>W</td>\n",
       "      <td>Percent</td>\n",
       "      <td>%</td>\n",
       "      <td>Not Seasonally Adjusted</td>\n",
       "      <td>NSA</td>\n",
       "      <td>2023-02-21 15:18:06-06:00</td>\n",
       "      <td>52</td>\n",
       "      <td>Averages of business days. For further informa...</td>\n",
       "    </tr>\n",
       "    <tr>\n",
       "      <th>DGS5</th>\n",
       "      <td>DGS5</td>\n",
       "      <td>2023-02-22</td>\n",
       "      <td>2023-02-22</td>\n",
       "      <td>Market Yield on U.S. Treasury Securities at 5-...</td>\n",
       "      <td>1962-01-02</td>\n",
       "      <td>2023-02-17</td>\n",
       "      <td>Daily</td>\n",
       "      <td>D</td>\n",
       "      <td>Percent</td>\n",
       "      <td>%</td>\n",
       "      <td>Not Seasonally Adjusted</td>\n",
       "      <td>NSA</td>\n",
       "      <td>2023-02-21 15:20:21-06:00</td>\n",
       "      <td>78</td>\n",
       "      <td>For further information regarding treasury con...</td>\n",
       "    </tr>\n",
       "    <tr>\n",
       "      <th>GS5</th>\n",
       "      <td>GS5</td>\n",
       "      <td>2023-02-22</td>\n",
       "      <td>2023-02-22</td>\n",
       "      <td>Market Yield on U.S. Treasury Securities at 5-...</td>\n",
       "      <td>1953-04-01</td>\n",
       "      <td>2023-01-01</td>\n",
       "      <td>Monthly</td>\n",
       "      <td>M</td>\n",
       "      <td>Percent</td>\n",
       "      <td>%</td>\n",
       "      <td>Not Seasonally Adjusted</td>\n",
       "      <td>NSA</td>\n",
       "      <td>2023-02-01 15:21:16-06:00</td>\n",
       "      <td>50</td>\n",
       "      <td>Averages of business days. For further informa...</td>\n",
       "    </tr>\n",
       "    <tr>\n",
       "      <th>WGS5YR</th>\n",
       "      <td>WGS5YR</td>\n",
       "      <td>2023-02-22</td>\n",
       "      <td>2023-02-22</td>\n",
       "      <td>Market Yield on U.S. Treasury Securities at 5-...</td>\n",
       "      <td>1962-01-05</td>\n",
       "      <td>2023-02-17</td>\n",
       "      <td>Weekly, Ending Friday</td>\n",
       "      <td>W</td>\n",
       "      <td>Percent</td>\n",
       "      <td>%</td>\n",
       "      <td>Not Seasonally Adjusted</td>\n",
       "      <td>NSA</td>\n",
       "      <td>2023-02-21 15:18:14-06:00</td>\n",
       "      <td>47</td>\n",
       "      <td>Averages of business days. For further informa...</td>\n",
       "    </tr>\n",
       "    <tr>\n",
       "      <th>DGS30</th>\n",
       "      <td>DGS30</td>\n",
       "      <td>2023-02-22</td>\n",
       "      <td>2023-02-22</td>\n",
       "      <td>Market Yield on U.S. Treasury Securities at 30...</td>\n",
       "      <td>1977-02-15</td>\n",
       "      <td>2023-02-17</td>\n",
       "      <td>Daily</td>\n",
       "      <td>D</td>\n",
       "      <td>Percent</td>\n",
       "      <td>%</td>\n",
       "      <td>Not Seasonally Adjusted</td>\n",
       "      <td>NSA</td>\n",
       "      <td>2023-02-21 15:20:21-06:00</td>\n",
       "      <td>76</td>\n",
       "      <td>Yields on actively traded non-inflation-indexe...</td>\n",
       "    </tr>\n",
       "    <tr>\n",
       "      <th>DGS20</th>\n",
       "      <td>DGS20</td>\n",
       "      <td>2023-02-22</td>\n",
       "      <td>2023-02-22</td>\n",
       "      <td>Market Yield on U.S. Treasury Securities at 20...</td>\n",
       "      <td>1962-01-02</td>\n",
       "      <td>2023-02-17</td>\n",
       "      <td>Daily</td>\n",
       "      <td>D</td>\n",
       "      <td>Percent</td>\n",
       "      <td>%</td>\n",
       "      <td>Not Seasonally Adjusted</td>\n",
       "      <td>NSA</td>\n",
       "      <td>2023-02-21 15:20:19-06:00</td>\n",
       "      <td>75</td>\n",
       "      <td>For further information regarding treasury con...</td>\n",
       "    </tr>\n",
       "    <tr>\n",
       "      <th>GS30</th>\n",
       "      <td>GS30</td>\n",
       "      <td>2023-02-22</td>\n",
       "      <td>2023-02-22</td>\n",
       "      <td>Market Yield on U.S. Treasury Securities at 30...</td>\n",
       "      <td>1977-02-01</td>\n",
       "      <td>2023-01-01</td>\n",
       "      <td>Monthly</td>\n",
       "      <td>M</td>\n",
       "      <td>Percent</td>\n",
       "      <td>%</td>\n",
       "      <td>Not Seasonally Adjusted</td>\n",
       "      <td>NSA</td>\n",
       "      <td>2023-02-01 15:21:16-06:00</td>\n",
       "      <td>46</td>\n",
       "      <td>Yields on actively traded non-inflation-indexe...</td>\n",
       "    </tr>\n",
       "    <tr>\n",
       "      <th>WGS30YR</th>\n",
       "      <td>WGS30YR</td>\n",
       "      <td>2023-02-22</td>\n",
       "      <td>2023-02-22</td>\n",
       "      <td>Market Yield on U.S. Treasury Securities at 30...</td>\n",
       "      <td>1977-02-18</td>\n",
       "      <td>2023-02-17</td>\n",
       "      <td>Weekly, Ending Friday</td>\n",
       "      <td>W</td>\n",
       "      <td>Percent</td>\n",
       "      <td>%</td>\n",
       "      <td>Not Seasonally Adjusted</td>\n",
       "      <td>NSA</td>\n",
       "      <td>2023-02-21 15:18:10-06:00</td>\n",
       "      <td>33</td>\n",
       "      <td>Yields on actively traded non-inflation-indexe...</td>\n",
       "    </tr>\n",
       "    <tr>\n",
       "      <th>GS20</th>\n",
       "      <td>GS20</td>\n",
       "      <td>2023-02-22</td>\n",
       "      <td>2023-02-22</td>\n",
       "      <td>Market Yield on U.S. Treasury Securities at 20...</td>\n",
       "      <td>1953-04-01</td>\n",
       "      <td>2023-01-01</td>\n",
       "      <td>Monthly</td>\n",
       "      <td>M</td>\n",
       "      <td>Percent</td>\n",
       "      <td>%</td>\n",
       "      <td>Not Seasonally Adjusted</td>\n",
       "      <td>NSA</td>\n",
       "      <td>2023-02-01 15:21:17-06:00</td>\n",
       "      <td>48</td>\n",
       "      <td>Averages of business days. For information on ...</td>\n",
       "    </tr>\n",
       "    <tr>\n",
       "      <th>DGS3MO</th>\n",
       "      <td>DGS3MO</td>\n",
       "      <td>2023-02-22</td>\n",
       "      <td>2023-02-22</td>\n",
       "      <td>Market Yield on U.S. Treasury Securities at 3-...</td>\n",
       "      <td>1981-09-01</td>\n",
       "      <td>2023-02-17</td>\n",
       "      <td>Daily</td>\n",
       "      <td>D</td>\n",
       "      <td>Percent</td>\n",
       "      <td>%</td>\n",
       "      <td>Not Seasonally Adjusted</td>\n",
       "      <td>NSA</td>\n",
       "      <td>2023-02-21 15:21:11-06:00</td>\n",
       "      <td>73</td>\n",
       "      <td>For further information regarding treasury con...</td>\n",
       "    </tr>\n",
       "    <tr>\n",
       "      <th>WGS20YR</th>\n",
       "      <td>WGS20YR</td>\n",
       "      <td>2023-02-22</td>\n",
       "      <td>2023-02-22</td>\n",
       "      <td>Market Yield on U.S. Treasury Securities at 20...</td>\n",
       "      <td>1962-01-05</td>\n",
       "      <td>2023-02-17</td>\n",
       "      <td>Weekly, Ending Friday</td>\n",
       "      <td>W</td>\n",
       "      <td>Percent</td>\n",
       "      <td>%</td>\n",
       "      <td>Not Seasonally Adjusted</td>\n",
       "      <td>NSA</td>\n",
       "      <td>2023-02-21 15:18:09-06:00</td>\n",
       "      <td>24</td>\n",
       "      <td>Averages of business days. For further informa...</td>\n",
       "    </tr>\n",
       "    <tr>\n",
       "      <th>GS3M</th>\n",
       "      <td>GS3M</td>\n",
       "      <td>2023-02-22</td>\n",
       "      <td>2023-02-22</td>\n",
       "      <td>Market Yield on U.S. Treasury Securities at 3-...</td>\n",
       "      <td>1981-09-01</td>\n",
       "      <td>2023-01-01</td>\n",
       "      <td>Monthly</td>\n",
       "      <td>M</td>\n",
       "      <td>Percent</td>\n",
       "      <td>%</td>\n",
       "      <td>Not Seasonally Adjusted</td>\n",
       "      <td>NSA</td>\n",
       "      <td>2023-02-01 15:21:19-06:00</td>\n",
       "      <td>45</td>\n",
       "      <td>Averages of business days. For further informa...</td>\n",
       "    </tr>\n",
       "    <tr>\n",
       "      <th>DGS1MO</th>\n",
       "      <td>DGS1MO</td>\n",
       "      <td>2023-02-22</td>\n",
       "      <td>2023-02-22</td>\n",
       "      <td>Market Yield on U.S. Treasury Securities at 1-...</td>\n",
       "      <td>2001-07-31</td>\n",
       "      <td>2023-02-17</td>\n",
       "      <td>Daily</td>\n",
       "      <td>D</td>\n",
       "      <td>Percent</td>\n",
       "      <td>%</td>\n",
       "      <td>Not Seasonally Adjusted</td>\n",
       "      <td>NSA</td>\n",
       "      <td>2023-02-21 15:21:09-06:00</td>\n",
       "      <td>71</td>\n",
       "      <td>For further information regarding treasury con...</td>\n",
       "    </tr>\n",
       "    <tr>\n",
       "      <th>WGS3MO</th>\n",
       "      <td>WGS3MO</td>\n",
       "      <td>2023-02-22</td>\n",
       "      <td>2023-02-22</td>\n",
       "      <td>Market Yield on U.S. Treasury Securities at 3-...</td>\n",
       "      <td>1981-09-04</td>\n",
       "      <td>2023-02-17</td>\n",
       "      <td>Weekly, Ending Friday</td>\n",
       "      <td>W</td>\n",
       "      <td>Percent</td>\n",
       "      <td>%</td>\n",
       "      <td>Not Seasonally Adjusted</td>\n",
       "      <td>NSA</td>\n",
       "      <td>2023-02-21 15:18:11-06:00</td>\n",
       "      <td>28</td>\n",
       "      <td>Averages of business days. For further informa...</td>\n",
       "    </tr>\n",
       "    <tr>\n",
       "      <th>GS1M</th>\n",
       "      <td>GS1M</td>\n",
       "      <td>2023-02-22</td>\n",
       "      <td>2023-02-22</td>\n",
       "      <td>Market Yield on U.S. Treasury Securities at 1-...</td>\n",
       "      <td>2001-07-01</td>\n",
       "      <td>2023-01-01</td>\n",
       "      <td>Monthly</td>\n",
       "      <td>M</td>\n",
       "      <td>Percent</td>\n",
       "      <td>%</td>\n",
       "      <td>Not Seasonally Adjusted</td>\n",
       "      <td>NSA</td>\n",
       "      <td>2023-02-01 15:21:18-06:00</td>\n",
       "      <td>43</td>\n",
       "      <td>Averages of business days. For further informa...</td>\n",
       "    </tr>\n",
       "    <tr>\n",
       "      <th>DGS3</th>\n",
       "      <td>DGS3</td>\n",
       "      <td>2023-02-22</td>\n",
       "      <td>2023-02-22</td>\n",
       "      <td>Market Yield on U.S. Treasury Securities at 3-...</td>\n",
       "      <td>1962-01-02</td>\n",
       "      <td>2023-02-17</td>\n",
       "      <td>Daily</td>\n",
       "      <td>D</td>\n",
       "      <td>Percent</td>\n",
       "      <td>%</td>\n",
       "      <td>Not Seasonally Adjusted</td>\n",
       "      <td>NSA</td>\n",
       "      <td>2023-02-21 15:20:20-06:00</td>\n",
       "      <td>68</td>\n",
       "      <td>For further information regarding treasury con...</td>\n",
       "    </tr>\n",
       "    <tr>\n",
       "      <th>WGS1MO</th>\n",
       "      <td>WGS1MO</td>\n",
       "      <td>2023-02-22</td>\n",
       "      <td>2023-02-22</td>\n",
       "      <td>Market Yield on U.S. Treasury Securities at 1-...</td>\n",
       "      <td>2001-08-03</td>\n",
       "      <td>2023-02-17</td>\n",
       "      <td>Weekly, Ending Friday</td>\n",
       "      <td>W</td>\n",
       "      <td>Percent</td>\n",
       "      <td>%</td>\n",
       "      <td>Not Seasonally Adjusted</td>\n",
       "      <td>NSA</td>\n",
       "      <td>2023-02-21 15:18:06-06:00</td>\n",
       "      <td>22</td>\n",
       "      <td>Averages of business days. For further informa...</td>\n",
       "    </tr>\n",
       "    <tr>\n",
       "      <th>WGS3YR</th>\n",
       "      <td>WGS3YR</td>\n",
       "      <td>2023-02-22</td>\n",
       "      <td>2023-02-22</td>\n",
       "      <td>Market Yield on U.S. Treasury Securities at 3-...</td>\n",
       "      <td>1962-01-05</td>\n",
       "      <td>2023-02-17</td>\n",
       "      <td>Weekly, Ending Friday</td>\n",
       "      <td>W</td>\n",
       "      <td>Percent</td>\n",
       "      <td>%</td>\n",
       "      <td>Not Seasonally Adjusted</td>\n",
       "      <td>NSA</td>\n",
       "      <td>2023-02-21 15:18:13-06:00</td>\n",
       "      <td>36</td>\n",
       "      <td>Averages of business days. For further informa...</td>\n",
       "    </tr>\n",
       "    <tr>\n",
       "      <th>GS3</th>\n",
       "      <td>GS3</td>\n",
       "      <td>2023-02-22</td>\n",
       "      <td>2023-02-22</td>\n",
       "      <td>Market Yield on U.S. Treasury Securities at 3-...</td>\n",
       "      <td>1953-04-01</td>\n",
       "      <td>2023-01-01</td>\n",
       "      <td>Monthly</td>\n",
       "      <td>M</td>\n",
       "      <td>Percent</td>\n",
       "      <td>%</td>\n",
       "      <td>Not Seasonally Adjusted</td>\n",
       "      <td>NSA</td>\n",
       "      <td>2023-02-01 15:21:20-06:00</td>\n",
       "      <td>34</td>\n",
       "      <td>Averages of business days. For further informa...</td>\n",
       "    </tr>\n",
       "    <tr>\n",
       "      <th>DGS6MO</th>\n",
       "      <td>DGS6MO</td>\n",
       "      <td>2023-02-22</td>\n",
       "      <td>2023-02-22</td>\n",
       "      <td>Market Yield on U.S. Treasury Securities at 6-...</td>\n",
       "      <td>1981-09-01</td>\n",
       "      <td>2023-02-17</td>\n",
       "      <td>Daily</td>\n",
       "      <td>D</td>\n",
       "      <td>Percent</td>\n",
       "      <td>%</td>\n",
       "      <td>Not Seasonally Adjusted</td>\n",
       "      <td>NSA</td>\n",
       "      <td>2023-02-21 15:21:11-06:00</td>\n",
       "      <td>63</td>\n",
       "      <td>For further information regarding treasury con...</td>\n",
       "    </tr>\n",
       "    <tr>\n",
       "      <th>WGS6MO</th>\n",
       "      <td>WGS6MO</td>\n",
       "      <td>2023-02-22</td>\n",
       "      <td>2023-02-22</td>\n",
       "      <td>Market Yield on U.S. Treasury Securities at 6-...</td>\n",
       "      <td>1981-09-04</td>\n",
       "      <td>2023-02-17</td>\n",
       "      <td>Weekly, Ending Friday</td>\n",
       "      <td>W</td>\n",
       "      <td>Percent</td>\n",
       "      <td>%</td>\n",
       "      <td>Not Seasonally Adjusted</td>\n",
       "      <td>NSA</td>\n",
       "      <td>2023-02-21 15:18:15-06:00</td>\n",
       "      <td>24</td>\n",
       "      <td>Averages of business days. For further informa...</td>\n",
       "    </tr>\n",
       "    <tr>\n",
       "      <th>DGS7</th>\n",
       "      <td>DGS7</td>\n",
       "      <td>2023-02-22</td>\n",
       "      <td>2023-02-22</td>\n",
       "      <td>Market Yield on U.S. Treasury Securities at 7-...</td>\n",
       "      <td>1969-07-01</td>\n",
       "      <td>2023-02-17</td>\n",
       "      <td>Daily</td>\n",
       "      <td>D</td>\n",
       "      <td>Percent</td>\n",
       "      <td>%</td>\n",
       "      <td>Not Seasonally Adjusted</td>\n",
       "      <td>NSA</td>\n",
       "      <td>2023-02-21 15:20:22-06:00</td>\n",
       "      <td>61</td>\n",
       "      <td>For further information regarding treasury con...</td>\n",
       "    </tr>\n",
       "    <tr>\n",
       "      <th>GS6M</th>\n",
       "      <td>GS6M</td>\n",
       "      <td>2023-02-22</td>\n",
       "      <td>2023-02-22</td>\n",
       "      <td>Market Yield on U.S. Treasury Securities at 6-...</td>\n",
       "      <td>1981-09-01</td>\n",
       "      <td>2023-01-01</td>\n",
       "      <td>Monthly</td>\n",
       "      <td>M</td>\n",
       "      <td>Percent</td>\n",
       "      <td>%</td>\n",
       "      <td>Not Seasonally Adjusted</td>\n",
       "      <td>NSA</td>\n",
       "      <td>2023-02-01 15:21:22-06:00</td>\n",
       "      <td>17</td>\n",
       "      <td>Averages of business days. For further informa...</td>\n",
       "    </tr>\n",
       "    <tr>\n",
       "      <th>WGS7YR</th>\n",
       "      <td>WGS7YR</td>\n",
       "      <td>2023-02-22</td>\n",
       "      <td>2023-02-22</td>\n",
       "      <td>Market Yield on U.S. Treasury Securities at 7-...</td>\n",
       "      <td>1969-07-04</td>\n",
       "      <td>2023-02-17</td>\n",
       "      <td>Weekly, Ending Friday</td>\n",
       "      <td>W</td>\n",
       "      <td>Percent</td>\n",
       "      <td>%</td>\n",
       "      <td>Not Seasonally Adjusted</td>\n",
       "      <td>NSA</td>\n",
       "      <td>2023-02-21 15:18:15-06:00</td>\n",
       "      <td>30</td>\n",
       "      <td>Averages of business days. For further informa...</td>\n",
       "    </tr>\n",
       "    <tr>\n",
       "      <th>GS7</th>\n",
       "      <td>GS7</td>\n",
       "      <td>2023-02-22</td>\n",
       "      <td>2023-02-22</td>\n",
       "      <td>Market Yield on U.S. Treasury Securities at 7-...</td>\n",
       "      <td>1969-07-01</td>\n",
       "      <td>2023-01-01</td>\n",
       "      <td>Monthly</td>\n",
       "      <td>M</td>\n",
       "      <td>Percent</td>\n",
       "      <td>%</td>\n",
       "      <td>Not Seasonally Adjusted</td>\n",
       "      <td>NSA</td>\n",
       "      <td>2023-02-01 15:21:23-06:00</td>\n",
       "      <td>22</td>\n",
       "      <td>Averages of business days. For further informa...</td>\n",
       "    </tr>\n",
       "    <tr>\n",
       "      <th>RRESD678FRBCLE</th>\n",
       "      <td>RRESD678FRBCLE</td>\n",
       "      <td>2023-02-22</td>\n",
       "      <td>2023-02-22</td>\n",
       "      <td>Contributions to the Cleveland Financial Stres...</td>\n",
       "      <td>1991-09-25</td>\n",
       "      <td>2016-05-05</td>\n",
       "      <td>Daily</td>\n",
       "      <td>D</td>\n",
       "      <td>Units of Stress</td>\n",
       "      <td>Units of Stress</td>\n",
       "      <td>Not Seasonally Adjusted</td>\n",
       "      <td>NSA</td>\n",
       "      <td>2016-05-06 14:22:15-05:00</td>\n",
       "      <td>1</td>\n",
       "      <td>In May of 2016, the source discovered errors i...</td>\n",
       "    </tr>\n",
       "    <tr>\n",
       "      <th>CRESD678FRBCLE</th>\n",
       "      <td>CRESD678FRBCLE</td>\n",
       "      <td>2023-02-22</td>\n",
       "      <td>2023-02-22</td>\n",
       "      <td>Contributions to the Cleveland Financial Stres...</td>\n",
       "      <td>1991-09-25</td>\n",
       "      <td>2016-05-05</td>\n",
       "      <td>Daily</td>\n",
       "      <td>D</td>\n",
       "      <td>Units of Stress</td>\n",
       "      <td>Units of Stress</td>\n",
       "      <td>Not Seasonally Adjusted</td>\n",
       "      <td>NSA</td>\n",
       "      <td>2016-05-06 14:23:01-05:00</td>\n",
       "      <td>1</td>\n",
       "      <td>In May of 2016, the source discovered errors i...</td>\n",
       "    </tr>\n",
       "  </tbody>\n",
       "</table>\n",
       "</div>"
      ],
      "text/plain": [
       "                            id realtime_start realtime_end  \\\n",
       "series id                                                    \n",
       "DGS10                    DGS10     2023-02-22   2023-02-22   \n",
       "GS10                      GS10     2023-02-22   2023-02-22   \n",
       "WGS10YR                WGS10YR     2023-02-22   2023-02-22   \n",
       "DGS2                      DGS2     2023-02-22   2023-02-22   \n",
       "DGS1                      DGS1     2023-02-22   2023-02-22   \n",
       "GS2                        GS2     2023-02-22   2023-02-22   \n",
       "WGS2YR                  WGS2YR     2023-02-22   2023-02-22   \n",
       "GS1                        GS1     2023-02-22   2023-02-22   \n",
       "WGS1YR                  WGS1YR     2023-02-22   2023-02-22   \n",
       "DGS5                      DGS5     2023-02-22   2023-02-22   \n",
       "GS5                        GS5     2023-02-22   2023-02-22   \n",
       "WGS5YR                  WGS5YR     2023-02-22   2023-02-22   \n",
       "DGS30                    DGS30     2023-02-22   2023-02-22   \n",
       "DGS20                    DGS20     2023-02-22   2023-02-22   \n",
       "GS30                      GS30     2023-02-22   2023-02-22   \n",
       "WGS30YR                WGS30YR     2023-02-22   2023-02-22   \n",
       "GS20                      GS20     2023-02-22   2023-02-22   \n",
       "DGS3MO                  DGS3MO     2023-02-22   2023-02-22   \n",
       "WGS20YR                WGS20YR     2023-02-22   2023-02-22   \n",
       "GS3M                      GS3M     2023-02-22   2023-02-22   \n",
       "DGS1MO                  DGS1MO     2023-02-22   2023-02-22   \n",
       "WGS3MO                  WGS3MO     2023-02-22   2023-02-22   \n",
       "GS1M                      GS1M     2023-02-22   2023-02-22   \n",
       "DGS3                      DGS3     2023-02-22   2023-02-22   \n",
       "WGS1MO                  WGS1MO     2023-02-22   2023-02-22   \n",
       "WGS3YR                  WGS3YR     2023-02-22   2023-02-22   \n",
       "GS3                        GS3     2023-02-22   2023-02-22   \n",
       "DGS6MO                  DGS6MO     2023-02-22   2023-02-22   \n",
       "WGS6MO                  WGS6MO     2023-02-22   2023-02-22   \n",
       "DGS7                      DGS7     2023-02-22   2023-02-22   \n",
       "GS6M                      GS6M     2023-02-22   2023-02-22   \n",
       "WGS7YR                  WGS7YR     2023-02-22   2023-02-22   \n",
       "GS7                        GS7     2023-02-22   2023-02-22   \n",
       "RRESD678FRBCLE  RRESD678FRBCLE     2023-02-22   2023-02-22   \n",
       "CRESD678FRBCLE  CRESD678FRBCLE     2023-02-22   2023-02-22   \n",
       "\n",
       "                                                            title  \\\n",
       "series id                                                           \n",
       "DGS10           Market Yield on U.S. Treasury Securities at 10...   \n",
       "GS10            Market Yield on U.S. Treasury Securities at 10...   \n",
       "WGS10YR         Market Yield on U.S. Treasury Securities at 10...   \n",
       "DGS2            Market Yield on U.S. Treasury Securities at 2-...   \n",
       "DGS1            Market Yield on U.S. Treasury Securities at 1-...   \n",
       "GS2             Market Yield on U.S. Treasury Securities at 2-...   \n",
       "WGS2YR          Market Yield on U.S. Treasury Securities at 2-...   \n",
       "GS1             Market Yield on U.S. Treasury Securities at 1-...   \n",
       "WGS1YR          Market Yield on U.S. Treasury Securities at 1-...   \n",
       "DGS5            Market Yield on U.S. Treasury Securities at 5-...   \n",
       "GS5             Market Yield on U.S. Treasury Securities at 5-...   \n",
       "WGS5YR          Market Yield on U.S. Treasury Securities at 5-...   \n",
       "DGS30           Market Yield on U.S. Treasury Securities at 30...   \n",
       "DGS20           Market Yield on U.S. Treasury Securities at 20...   \n",
       "GS30            Market Yield on U.S. Treasury Securities at 30...   \n",
       "WGS30YR         Market Yield on U.S. Treasury Securities at 30...   \n",
       "GS20            Market Yield on U.S. Treasury Securities at 20...   \n",
       "DGS3MO          Market Yield on U.S. Treasury Securities at 3-...   \n",
       "WGS20YR         Market Yield on U.S. Treasury Securities at 20...   \n",
       "GS3M            Market Yield on U.S. Treasury Securities at 3-...   \n",
       "DGS1MO          Market Yield on U.S. Treasury Securities at 1-...   \n",
       "WGS3MO          Market Yield on U.S. Treasury Securities at 3-...   \n",
       "GS1M            Market Yield on U.S. Treasury Securities at 1-...   \n",
       "DGS3            Market Yield on U.S. Treasury Securities at 3-...   \n",
       "WGS1MO          Market Yield on U.S. Treasury Securities at 1-...   \n",
       "WGS3YR          Market Yield on U.S. Treasury Securities at 3-...   \n",
       "GS3             Market Yield on U.S. Treasury Securities at 3-...   \n",
       "DGS6MO          Market Yield on U.S. Treasury Securities at 6-...   \n",
       "WGS6MO          Market Yield on U.S. Treasury Securities at 6-...   \n",
       "DGS7            Market Yield on U.S. Treasury Securities at 7-...   \n",
       "GS6M            Market Yield on U.S. Treasury Securities at 6-...   \n",
       "WGS7YR          Market Yield on U.S. Treasury Securities at 7-...   \n",
       "GS7             Market Yield on U.S. Treasury Securities at 7-...   \n",
       "RRESD678FRBCLE  Contributions to the Cleveland Financial Stres...   \n",
       "CRESD678FRBCLE  Contributions to the Cleveland Financial Stres...   \n",
       "\n",
       "               observation_start observation_end              frequency  \\\n",
       "series id                                                                 \n",
       "DGS10                 1962-01-02      2023-02-17                  Daily   \n",
       "GS10                  1953-04-01      2023-01-01                Monthly   \n",
       "WGS10YR               1962-01-05      2023-02-17  Weekly, Ending Friday   \n",
       "DGS2                  1976-06-01      2023-02-17                  Daily   \n",
       "DGS1                  1962-01-02      2023-02-17                  Daily   \n",
       "GS2                   1976-06-01      2023-01-01                Monthly   \n",
       "WGS2YR                1976-06-04      2023-02-17  Weekly, Ending Friday   \n",
       "GS1                   1953-04-01      2023-01-01                Monthly   \n",
       "WGS1YR                1962-01-05      2023-02-17  Weekly, Ending Friday   \n",
       "DGS5                  1962-01-02      2023-02-17                  Daily   \n",
       "GS5                   1953-04-01      2023-01-01                Monthly   \n",
       "WGS5YR                1962-01-05      2023-02-17  Weekly, Ending Friday   \n",
       "DGS30                 1977-02-15      2023-02-17                  Daily   \n",
       "DGS20                 1962-01-02      2023-02-17                  Daily   \n",
       "GS30                  1977-02-01      2023-01-01                Monthly   \n",
       "WGS30YR               1977-02-18      2023-02-17  Weekly, Ending Friday   \n",
       "GS20                  1953-04-01      2023-01-01                Monthly   \n",
       "DGS3MO                1981-09-01      2023-02-17                  Daily   \n",
       "WGS20YR               1962-01-05      2023-02-17  Weekly, Ending Friday   \n",
       "GS3M                  1981-09-01      2023-01-01                Monthly   \n",
       "DGS1MO                2001-07-31      2023-02-17                  Daily   \n",
       "WGS3MO                1981-09-04      2023-02-17  Weekly, Ending Friday   \n",
       "GS1M                  2001-07-01      2023-01-01                Monthly   \n",
       "DGS3                  1962-01-02      2023-02-17                  Daily   \n",
       "WGS1MO                2001-08-03      2023-02-17  Weekly, Ending Friday   \n",
       "WGS3YR                1962-01-05      2023-02-17  Weekly, Ending Friday   \n",
       "GS3                   1953-04-01      2023-01-01                Monthly   \n",
       "DGS6MO                1981-09-01      2023-02-17                  Daily   \n",
       "WGS6MO                1981-09-04      2023-02-17  Weekly, Ending Friday   \n",
       "DGS7                  1969-07-01      2023-02-17                  Daily   \n",
       "GS6M                  1981-09-01      2023-01-01                Monthly   \n",
       "WGS7YR                1969-07-04      2023-02-17  Weekly, Ending Friday   \n",
       "GS7                   1969-07-01      2023-01-01                Monthly   \n",
       "RRESD678FRBCLE        1991-09-25      2016-05-05                  Daily   \n",
       "CRESD678FRBCLE        1991-09-25      2016-05-05                  Daily   \n",
       "\n",
       "               frequency_short            units      units_short  \\\n",
       "series id                                                          \n",
       "DGS10                        D          Percent                %   \n",
       "GS10                         M          Percent                %   \n",
       "WGS10YR                      W          Percent                %   \n",
       "DGS2                         D          Percent                %   \n",
       "DGS1                         D          Percent                %   \n",
       "GS2                          M          Percent                %   \n",
       "WGS2YR                       W          Percent                %   \n",
       "GS1                          M          Percent                %   \n",
       "WGS1YR                       W          Percent                %   \n",
       "DGS5                         D          Percent                %   \n",
       "GS5                          M          Percent                %   \n",
       "WGS5YR                       W          Percent                %   \n",
       "DGS30                        D          Percent                %   \n",
       "DGS20                        D          Percent                %   \n",
       "GS30                         M          Percent                %   \n",
       "WGS30YR                      W          Percent                %   \n",
       "GS20                         M          Percent                %   \n",
       "DGS3MO                       D          Percent                %   \n",
       "WGS20YR                      W          Percent                %   \n",
       "GS3M                         M          Percent                %   \n",
       "DGS1MO                       D          Percent                %   \n",
       "WGS3MO                       W          Percent                %   \n",
       "GS1M                         M          Percent                %   \n",
       "DGS3                         D          Percent                %   \n",
       "WGS1MO                       W          Percent                %   \n",
       "WGS3YR                       W          Percent                %   \n",
       "GS3                          M          Percent                %   \n",
       "DGS6MO                       D          Percent                %   \n",
       "WGS6MO                       W          Percent                %   \n",
       "DGS7                         D          Percent                %   \n",
       "GS6M                         M          Percent                %   \n",
       "WGS7YR                       W          Percent                %   \n",
       "GS7                          M          Percent                %   \n",
       "RRESD678FRBCLE               D  Units of Stress  Units of Stress   \n",
       "CRESD678FRBCLE               D  Units of Stress  Units of Stress   \n",
       "\n",
       "                    seasonal_adjustment seasonal_adjustment_short  \\\n",
       "series id                                                           \n",
       "DGS10           Not Seasonally Adjusted                       NSA   \n",
       "GS10            Not Seasonally Adjusted                       NSA   \n",
       "WGS10YR         Not Seasonally Adjusted                       NSA   \n",
       "DGS2            Not Seasonally Adjusted                       NSA   \n",
       "DGS1            Not Seasonally Adjusted                       NSA   \n",
       "GS2             Not Seasonally Adjusted                       NSA   \n",
       "WGS2YR          Not Seasonally Adjusted                       NSA   \n",
       "GS1             Not Seasonally Adjusted                       NSA   \n",
       "WGS1YR          Not Seasonally Adjusted                       NSA   \n",
       "DGS5            Not Seasonally Adjusted                       NSA   \n",
       "GS5             Not Seasonally Adjusted                       NSA   \n",
       "WGS5YR          Not Seasonally Adjusted                       NSA   \n",
       "DGS30           Not Seasonally Adjusted                       NSA   \n",
       "DGS20           Not Seasonally Adjusted                       NSA   \n",
       "GS30            Not Seasonally Adjusted                       NSA   \n",
       "WGS30YR         Not Seasonally Adjusted                       NSA   \n",
       "GS20            Not Seasonally Adjusted                       NSA   \n",
       "DGS3MO          Not Seasonally Adjusted                       NSA   \n",
       "WGS20YR         Not Seasonally Adjusted                       NSA   \n",
       "GS3M            Not Seasonally Adjusted                       NSA   \n",
       "DGS1MO          Not Seasonally Adjusted                       NSA   \n",
       "WGS3MO          Not Seasonally Adjusted                       NSA   \n",
       "GS1M            Not Seasonally Adjusted                       NSA   \n",
       "DGS3            Not Seasonally Adjusted                       NSA   \n",
       "WGS1MO          Not Seasonally Adjusted                       NSA   \n",
       "WGS3YR          Not Seasonally Adjusted                       NSA   \n",
       "GS3             Not Seasonally Adjusted                       NSA   \n",
       "DGS6MO          Not Seasonally Adjusted                       NSA   \n",
       "WGS6MO          Not Seasonally Adjusted                       NSA   \n",
       "DGS7            Not Seasonally Adjusted                       NSA   \n",
       "GS6M            Not Seasonally Adjusted                       NSA   \n",
       "WGS7YR          Not Seasonally Adjusted                       NSA   \n",
       "GS7             Not Seasonally Adjusted                       NSA   \n",
       "RRESD678FRBCLE  Not Seasonally Adjusted                       NSA   \n",
       "CRESD678FRBCLE  Not Seasonally Adjusted                       NSA   \n",
       "\n",
       "                             last_updated popularity  \\\n",
       "series id                                              \n",
       "DGS10           2023-02-21 15:20:15-06:00         92   \n",
       "GS10            2023-02-01 15:21:11-06:00         73   \n",
       "WGS10YR         2023-02-21 15:18:05-06:00         54   \n",
       "DGS2            2023-02-21 15:21:10-06:00         81   \n",
       "DGS1            2023-02-21 15:21:08-06:00         80   \n",
       "GS2             2023-02-01 15:21:20-06:00         45   \n",
       "WGS2YR          2023-02-21 15:18:10-06:00         37   \n",
       "GS1             2023-02-01 15:21:15-06:00         53   \n",
       "WGS1YR          2023-02-21 15:18:06-06:00         52   \n",
       "DGS5            2023-02-21 15:20:21-06:00         78   \n",
       "GS5             2023-02-01 15:21:16-06:00         50   \n",
       "WGS5YR          2023-02-21 15:18:14-06:00         47   \n",
       "DGS30           2023-02-21 15:20:21-06:00         76   \n",
       "DGS20           2023-02-21 15:20:19-06:00         75   \n",
       "GS30            2023-02-01 15:21:16-06:00         46   \n",
       "WGS30YR         2023-02-21 15:18:10-06:00         33   \n",
       "GS20            2023-02-01 15:21:17-06:00         48   \n",
       "DGS3MO          2023-02-21 15:21:11-06:00         73   \n",
       "WGS20YR         2023-02-21 15:18:09-06:00         24   \n",
       "GS3M            2023-02-01 15:21:19-06:00         45   \n",
       "DGS1MO          2023-02-21 15:21:09-06:00         71   \n",
       "WGS3MO          2023-02-21 15:18:11-06:00         28   \n",
       "GS1M            2023-02-01 15:21:18-06:00         43   \n",
       "DGS3            2023-02-21 15:20:20-06:00         68   \n",
       "WGS1MO          2023-02-21 15:18:06-06:00         22   \n",
       "WGS3YR          2023-02-21 15:18:13-06:00         36   \n",
       "GS3             2023-02-01 15:21:20-06:00         34   \n",
       "DGS6MO          2023-02-21 15:21:11-06:00         63   \n",
       "WGS6MO          2023-02-21 15:18:15-06:00         24   \n",
       "DGS7            2023-02-21 15:20:22-06:00         61   \n",
       "GS6M            2023-02-01 15:21:22-06:00         17   \n",
       "WGS7YR          2023-02-21 15:18:15-06:00         30   \n",
       "GS7             2023-02-01 15:21:23-06:00         22   \n",
       "RRESD678FRBCLE  2016-05-06 14:22:15-05:00          1   \n",
       "CRESD678FRBCLE  2016-05-06 14:23:01-05:00          1   \n",
       "\n",
       "                                                            notes  \n",
       "series id                                                          \n",
       "DGS10           For further information regarding treasury con...  \n",
       "GS10            Averages of business days. For further informa...  \n",
       "WGS10YR         Averages of business days. For further informa...  \n",
       "DGS2            For further information regarding treasury con...  \n",
       "DGS1            For further information regarding treasury con...  \n",
       "GS2             Averages of business days. For further informa...  \n",
       "WGS2YR          Averages of business days. For further informa...  \n",
       "GS1             Averages of business days. For further informa...  \n",
       "WGS1YR          Averages of business days. For further informa...  \n",
       "DGS5            For further information regarding treasury con...  \n",
       "GS5             Averages of business days. For further informa...  \n",
       "WGS5YR          Averages of business days. For further informa...  \n",
       "DGS30           Yields on actively traded non-inflation-indexe...  \n",
       "DGS20           For further information regarding treasury con...  \n",
       "GS30            Yields on actively traded non-inflation-indexe...  \n",
       "WGS30YR         Yields on actively traded non-inflation-indexe...  \n",
       "GS20            Averages of business days. For information on ...  \n",
       "DGS3MO          For further information regarding treasury con...  \n",
       "WGS20YR         Averages of business days. For further informa...  \n",
       "GS3M            Averages of business days. For further informa...  \n",
       "DGS1MO          For further information regarding treasury con...  \n",
       "WGS3MO          Averages of business days. For further informa...  \n",
       "GS1M            Averages of business days. For further informa...  \n",
       "DGS3            For further information regarding treasury con...  \n",
       "WGS1MO          Averages of business days. For further informa...  \n",
       "WGS3YR          Averages of business days. For further informa...  \n",
       "GS3             Averages of business days. For further informa...  \n",
       "DGS6MO          For further information regarding treasury con...  \n",
       "WGS6MO          Averages of business days. For further informa...  \n",
       "DGS7            For further information regarding treasury con...  \n",
       "GS6M            Averages of business days. For further informa...  \n",
       "WGS7YR          Averages of business days. For further informa...  \n",
       "GS7             Averages of business days. For further informa...  \n",
       "RRESD678FRBCLE  In May of 2016, the source discovered errors i...  \n",
       "CRESD678FRBCLE  In May of 2016, the source discovered errors i...  "
      ]
     },
     "execution_count": 20,
     "metadata": {},
     "output_type": "execute_result"
    }
   ],
   "source": [
    "fred.search('risk free')"
   ]
  },
  {
   "cell_type": "code",
   "execution_count": 33,
   "metadata": {},
   "outputs": [],
   "source": [
    "risk_free = fred.get_series('DGS3MO')\n",
    "risk_free = risk_free['2021-01-01':'2021-08-01']"
   ]
  },
  {
   "cell_type": "code",
   "execution_count": 36,
   "metadata": {},
   "outputs": [],
   "source": [
    "risk_free = risk_free.dropna()"
   ]
  },
  {
   "cell_type": "code",
   "execution_count": 37,
   "metadata": {},
   "outputs": [
    {
     "data": {
      "text/plain": [
       "2021-01-04    0.09\n",
       "2021-01-05    0.09\n",
       "2021-01-06    0.09\n",
       "2021-01-07    0.09\n",
       "2021-01-08    0.08\n",
       "              ... \n",
       "2021-07-26    0.05\n",
       "2021-07-27    0.05\n",
       "2021-07-28    0.05\n",
       "2021-07-29    0.06\n",
       "2021-07-30    0.06\n",
       "Length: 146, dtype: float64"
      ]
     },
     "execution_count": 37,
     "metadata": {},
     "output_type": "execute_result"
    }
   ],
   "source": [
    "risk_free"
   ]
  },
  {
   "cell_type": "code",
   "execution_count": 25,
   "metadata": {},
   "outputs": [
    {
     "data": {
      "text/plain": [
       "395"
      ]
     },
     "execution_count": 25,
     "metadata": {},
     "output_type": "execute_result"
    }
   ],
   "source": [
    "len(risk_free)"
   ]
  },
  {
   "cell_type": "markdown",
   "metadata": {},
   "source": [
    "Visualization is quite helpful in understanding what the data looks like. So, as a first step, it is encouraged to plot the data and increase the awareness about it. Below, using line plot, trend of the four individual stock and market index are shown. Accordingly, aside from Apple, all others have tended to move upward despite ups and downs along the way."
   ]
  },
  {
   "cell_type": "code",
   "execution_count": 39,
   "metadata": {},
   "outputs": [
    {
     "data": {
      "image/png": "[encoded data removed]",
      "text/plain": [
       "<Figure size 720x432 with 1 Axes>"
      ]
     },
     "metadata": {
      "needs_background": "light"
     },
     "output_type": "display_data"
    },
    {
     "data": {
      "image/png": "[encoded data removed]",
      "text/plain": [
       "<Figure size 720x432 with 1 Axes>"
      ]
     },
     "metadata": {
      "needs_background": "light"
     },
     "output_type": "display_data"
    },
    {
     "data": {
      "image/png": "[encoded data removed]",
      "text/plain": [
       "<Figure size 720x432 with 1 Axes>"
      ]
     },
     "metadata": {
      "needs_background": "light"
     },
     "output_type": "display_data"
    },
    {
     "data": {
      "image/png": "[encoded data removed]",
      "text/plain": [
       "<Figure size 720x432 with 1 Axes>"
      ]
     },
     "metadata": {
      "needs_background": "light"
     },
     "output_type": "display_data"
    }
   ],
   "source": [
    "for i, stock in enumerate(port.columns, start=1):\n",
    "    plt.figure(figsize=(10, 6))\n",
    "    plt.subplot(4, 1, i)\n",
    "    plt.plot(port[stock])\n",
    "    plt.title(f'{stock}')\n",
    "    plt.show()"
   ]
  },
  {
   "cell_type": "code",
   "execution_count": 40,
   "metadata": {},
   "outputs": [
    {
     "data": {
      "text/html": [
       "<div>\n",
       "<style scoped>\n",
       "    .dataframe tbody tr th:only-of-type {\n",
       "        vertical-align: middle;\n",
       "    }\n",
       "\n",
       "    .dataframe tbody tr th {\n",
       "        vertical-align: top;\n",
       "    }\n",
       "\n",
       "    .dataframe thead th {\n",
       "        text-align: right;\n",
       "    }\n",
       "</style>\n",
       "<table border=\"1\" class=\"dataframe\">\n",
       "  <thead>\n",
       "    <tr style=\"text-align: right;\">\n",
       "      <th></th>\n",
       "      <th>AAPL</th>\n",
       "      <th>INTC</th>\n",
       "      <th>MSFT</th>\n",
       "      <th>^GSPC</th>\n",
       "    </tr>\n",
       "  </thead>\n",
       "  <tbody>\n",
       "    <tr>\n",
       "      <th>AAPL</th>\n",
       "      <td>1.000000</td>\n",
       "      <td>-0.406278</td>\n",
       "      <td>0.675136</td>\n",
       "      <td>0.483346</td>\n",
       "    </tr>\n",
       "    <tr>\n",
       "      <th>INTC</th>\n",
       "      <td>-0.406278</td>\n",
       "      <td>1.000000</td>\n",
       "      <td>-0.155179</td>\n",
       "      <td>-0.191831</td>\n",
       "    </tr>\n",
       "    <tr>\n",
       "      <th>MSFT</th>\n",
       "      <td>0.675136</td>\n",
       "      <td>-0.155179</td>\n",
       "      <td>1.000000</td>\n",
       "      <td>0.921854</td>\n",
       "    </tr>\n",
       "    <tr>\n",
       "      <th>^GSPC</th>\n",
       "      <td>0.483346</td>\n",
       "      <td>-0.191831</td>\n",
       "      <td>0.921854</td>\n",
       "      <td>1.000000</td>\n",
       "    </tr>\n",
       "  </tbody>\n",
       "</table>\n",
       "</div>"
      ],
      "text/plain": [
       "           AAPL      INTC      MSFT     ^GSPC\n",
       "AAPL   1.000000 -0.406278  0.675136  0.483346\n",
       "INTC  -0.406278  1.000000 -0.155179 -0.191831\n",
       "MSFT   0.675136 -0.155179  1.000000  0.921854\n",
       "^GSPC  0.483346 -0.191831  0.921854  1.000000"
      ]
     },
     "execution_count": 40,
     "metadata": {},
     "output_type": "execute_result"
    }
   ],
   "source": [
    "port.corr()"
   ]
  },
  {
   "cell_type": "markdown",
   "metadata": {},
   "source": [
    "As CAPM requires stock returns, there are various ways to calculate return in Python but `.pct_change()` is one of the most easyto-apply function. Once we calculate the return first row becomes `nan` as return for the first entry cannot be computed."
   ]
  },
  {
   "cell_type": "code",
   "execution_count": 54,
   "metadata": {},
   "outputs": [
    {
     "data": {
      "text/html": [
       "<div>\n",
       "<style scoped>\n",
       "    .dataframe tbody tr th:only-of-type {\n",
       "        vertical-align: middle;\n",
       "    }\n",
       "\n",
       "    .dataframe tbody tr th {\n",
       "        vertical-align: top;\n",
       "    }\n",
       "\n",
       "    .dataframe thead th {\n",
       "        text-align: right;\n",
       "    }\n",
       "</style>\n",
       "<table border=\"1\" class=\"dataframe\">\n",
       "  <thead>\n",
       "    <tr style=\"text-align: right;\">\n",
       "      <th></th>\n",
       "      <th>AAPL</th>\n",
       "      <th>INTC</th>\n",
       "      <th>MSFT</th>\n",
       "      <th>GSPC</th>\n",
       "    </tr>\n",
       "    <tr>\n",
       "      <th>Date</th>\n",
       "      <th></th>\n",
       "      <th></th>\n",
       "      <th></th>\n",
       "      <th></th>\n",
       "    </tr>\n",
       "  </thead>\n",
       "  <tbody>\n",
       "    <tr>\n",
       "      <th>2021-01-04</th>\n",
       "      <td>-0.024719</td>\n",
       "      <td>-0.003011</td>\n",
       "      <td>-0.021266</td>\n",
       "      <td>-0.014755</td>\n",
       "    </tr>\n",
       "    <tr>\n",
       "      <th>2021-01-05</th>\n",
       "      <td>0.012364</td>\n",
       "      <td>0.018925</td>\n",
       "      <td>0.000965</td>\n",
       "      <td>0.007083</td>\n",
       "    </tr>\n",
       "    <tr>\n",
       "      <th>2021-01-06</th>\n",
       "      <td>-0.033662</td>\n",
       "      <td>0.009682</td>\n",
       "      <td>-0.025929</td>\n",
       "      <td>0.005710</td>\n",
       "    </tr>\n",
       "    <tr>\n",
       "      <th>2021-01-07</th>\n",
       "      <td>0.034123</td>\n",
       "      <td>0.021331</td>\n",
       "      <td>0.028457</td>\n",
       "      <td>0.014847</td>\n",
       "    </tr>\n",
       "    <tr>\n",
       "      <th>2021-01-08</th>\n",
       "      <td>0.008631</td>\n",
       "      <td>-0.010347</td>\n",
       "      <td>0.006093</td>\n",
       "      <td>0.005492</td>\n",
       "    </tr>\n",
       "  </tbody>\n",
       "</table>\n",
       "</div>"
      ],
      "text/plain": [
       "                AAPL      INTC      MSFT      GSPC\n",
       "Date                                              \n",
       "2021-01-04 -0.024719 -0.003011 -0.021266 -0.014755\n",
       "2021-01-05  0.012364  0.018925  0.000965  0.007083\n",
       "2021-01-06 -0.033662  0.009682 -0.025929  0.005710\n",
       "2021-01-07  0.034123  0.021331  0.028457  0.014847\n",
       "2021-01-08  0.008631 -0.010347  0.006093  0.005492"
      ]
     },
     "execution_count": 54,
     "metadata": {},
     "output_type": "execute_result"
    }
   ],
   "source": [
    "returns = port.pct_change()\n",
    "returns.dropna(inplace=True)\n",
    "returns.head()"
   ]
  },
  {
   "cell_type": "markdown",
   "metadata": {},
   "source": [
    "Let us now convert the 3-month risk-free rate into daily rate. It choose the easy way, which is simply dividing it by number of days in 3 months (90)."
   ]
  },
  {
   "cell_type": "code",
   "execution_count": 43,
   "metadata": {},
   "outputs": [],
   "source": [
    "risk_free = risk_free/90"
   ]
  },
  {
   "cell_type": "code",
   "execution_count": 44,
   "metadata": {},
   "outputs": [
    {
     "data": {
      "image/png": "[encoded data removed]",
      "text/plain": [
       "<Figure size 432x288 with 1 Axes>"
      ]
     },
     "metadata": {
      "needs_background": "light"
     },
     "output_type": "display_data"
    }
   ],
   "source": [
    "plt.plot(risk_free)\n",
    "plt.title('Risk Free Rate')\n",
    "plt.show()"
   ]
  },
  {
   "cell_type": "markdown",
   "metadata": {},
   "source": [
    "To calculate the excess return, we need to subtract risk free rate from the stock returns. We calculate and store all excess return in data frame named `returns`."
   ]
  },
  {
   "cell_type": "code",
   "execution_count": 55,
   "metadata": {},
   "outputs": [],
   "source": [
    "stocks = port.columns\n",
    "for i in stocks:\n",
    "    returns[f'excess_return_{i}'] = returns[i] - risk_free"
   ]
  },
  {
   "cell_type": "code",
   "execution_count": 56,
   "metadata": {},
   "outputs": [
    {
     "data": {
      "text/html": [
       "<div>\n",
       "<style scoped>\n",
       "    .dataframe tbody tr th:only-of-type {\n",
       "        vertical-align: middle;\n",
       "    }\n",
       "\n",
       "    .dataframe tbody tr th {\n",
       "        vertical-align: top;\n",
       "    }\n",
       "\n",
       "    .dataframe thead th {\n",
       "        text-align: right;\n",
       "    }\n",
       "</style>\n",
       "<table border=\"1\" class=\"dataframe\">\n",
       "  <thead>\n",
       "    <tr style=\"text-align: right;\">\n",
       "      <th></th>\n",
       "      <th>AAPL</th>\n",
       "      <th>INTC</th>\n",
       "      <th>MSFT</th>\n",
       "      <th>GSPC</th>\n",
       "      <th>excess_return_AAPL</th>\n",
       "      <th>excess_return_INTC</th>\n",
       "      <th>excess_return_MSFT</th>\n",
       "      <th>excess_return_GSPC</th>\n",
       "    </tr>\n",
       "    <tr>\n",
       "      <th>Date</th>\n",
       "      <th></th>\n",
       "      <th></th>\n",
       "      <th></th>\n",
       "      <th></th>\n",
       "      <th></th>\n",
       "      <th></th>\n",
       "      <th></th>\n",
       "      <th></th>\n",
       "    </tr>\n",
       "  </thead>\n",
       "  <tbody>\n",
       "    <tr>\n",
       "      <th>2021-01-04</th>\n",
       "      <td>-0.024719</td>\n",
       "      <td>-0.003011</td>\n",
       "      <td>-0.021266</td>\n",
       "      <td>-0.014755</td>\n",
       "      <td>-0.025719</td>\n",
       "      <td>-0.004011</td>\n",
       "      <td>-0.022266</td>\n",
       "      <td>-0.015755</td>\n",
       "    </tr>\n",
       "    <tr>\n",
       "      <th>2021-01-05</th>\n",
       "      <td>0.012364</td>\n",
       "      <td>0.018925</td>\n",
       "      <td>0.000965</td>\n",
       "      <td>0.007083</td>\n",
       "      <td>0.011364</td>\n",
       "      <td>0.017925</td>\n",
       "      <td>-0.000035</td>\n",
       "      <td>0.006083</td>\n",
       "    </tr>\n",
       "    <tr>\n",
       "      <th>2021-01-06</th>\n",
       "      <td>-0.033662</td>\n",
       "      <td>0.009682</td>\n",
       "      <td>-0.025929</td>\n",
       "      <td>0.005710</td>\n",
       "      <td>-0.034662</td>\n",
       "      <td>0.008682</td>\n",
       "      <td>-0.026929</td>\n",
       "      <td>0.004710</td>\n",
       "    </tr>\n",
       "    <tr>\n",
       "      <th>2021-01-07</th>\n",
       "      <td>0.034123</td>\n",
       "      <td>0.021331</td>\n",
       "      <td>0.028457</td>\n",
       "      <td>0.014847</td>\n",
       "      <td>0.033123</td>\n",
       "      <td>0.020331</td>\n",
       "      <td>0.027457</td>\n",
       "      <td>0.013847</td>\n",
       "    </tr>\n",
       "    <tr>\n",
       "      <th>2021-01-08</th>\n",
       "      <td>0.008631</td>\n",
       "      <td>-0.010347</td>\n",
       "      <td>0.006093</td>\n",
       "      <td>0.005492</td>\n",
       "      <td>0.007742</td>\n",
       "      <td>-0.011236</td>\n",
       "      <td>0.005204</td>\n",
       "      <td>0.004603</td>\n",
       "    </tr>\n",
       "    <tr>\n",
       "      <th>...</th>\n",
       "      <td>...</td>\n",
       "      <td>...</td>\n",
       "      <td>...</td>\n",
       "      <td>...</td>\n",
       "      <td>...</td>\n",
       "      <td>...</td>\n",
       "      <td>...</td>\n",
       "      <td>...</td>\n",
       "    </tr>\n",
       "    <tr>\n",
       "      <th>2021-07-26</th>\n",
       "      <td>0.002895</td>\n",
       "      <td>0.024717</td>\n",
       "      <td>-0.002140</td>\n",
       "      <td>0.002382</td>\n",
       "      <td>0.002339</td>\n",
       "      <td>0.024161</td>\n",
       "      <td>-0.002696</td>\n",
       "      <td>0.001827</td>\n",
       "    </tr>\n",
       "    <tr>\n",
       "      <th>2021-07-27</th>\n",
       "      <td>-0.014900</td>\n",
       "      <td>-0.020807</td>\n",
       "      <td>-0.008684</td>\n",
       "      <td>-0.004712</td>\n",
       "      <td>-0.015456</td>\n",
       "      <td>-0.021362</td>\n",
       "      <td>-0.009239</td>\n",
       "      <td>-0.005268</td>\n",
       "    </tr>\n",
       "    <tr>\n",
       "      <th>2021-07-28</th>\n",
       "      <td>-0.012196</td>\n",
       "      <td>-0.002068</td>\n",
       "      <td>-0.001117</td>\n",
       "      <td>-0.000186</td>\n",
       "      <td>-0.012752</td>\n",
       "      <td>-0.002624</td>\n",
       "      <td>-0.001672</td>\n",
       "      <td>-0.000742</td>\n",
       "    </tr>\n",
       "    <tr>\n",
       "      <th>2021-07-29</th>\n",
       "      <td>0.004552</td>\n",
       "      <td>0.011871</td>\n",
       "      <td>0.000978</td>\n",
       "      <td>0.004206</td>\n",
       "      <td>0.003886</td>\n",
       "      <td>0.011204</td>\n",
       "      <td>0.000312</td>\n",
       "      <td>0.003539</td>\n",
       "    </tr>\n",
       "    <tr>\n",
       "      <th>2021-07-30</th>\n",
       "      <td>0.001511</td>\n",
       "      <td>0.000372</td>\n",
       "      <td>-0.005550</td>\n",
       "      <td>-0.005406</td>\n",
       "      <td>0.000844</td>\n",
       "      <td>-0.000294</td>\n",
       "      <td>-0.006216</td>\n",
       "      <td>-0.006073</td>\n",
       "    </tr>\n",
       "  </tbody>\n",
       "</table>\n",
       "<p>145 rows × 8 columns</p>\n",
       "</div>"
      ],
      "text/plain": [
       "                AAPL      INTC      MSFT      GSPC  excess_return_AAPL  \\\n",
       "Date                                                                     \n",
       "2021-01-04 -0.024719 -0.003011 -0.021266 -0.014755           -0.025719   \n",
       "2021-01-05  0.012364  0.018925  0.000965  0.007083            0.011364   \n",
       "2021-01-06 -0.033662  0.009682 -0.025929  0.005710           -0.034662   \n",
       "2021-01-07  0.034123  0.021331  0.028457  0.014847            0.033123   \n",
       "2021-01-08  0.008631 -0.010347  0.006093  0.005492            0.007742   \n",
       "...              ...       ...       ...       ...                 ...   \n",
       "2021-07-26  0.002895  0.024717 -0.002140  0.002382            0.002339   \n",
       "2021-07-27 -0.014900 -0.020807 -0.008684 -0.004712           -0.015456   \n",
       "2021-07-28 -0.012196 -0.002068 -0.001117 -0.000186           -0.012752   \n",
       "2021-07-29  0.004552  0.011871  0.000978  0.004206            0.003886   \n",
       "2021-07-30  0.001511  0.000372 -0.005550 -0.005406            0.000844   \n",
       "\n",
       "            excess_return_INTC  excess_return_MSFT  excess_return_GSPC  \n",
       "Date                                                                    \n",
       "2021-01-04           -0.004011           -0.022266           -0.015755  \n",
       "2021-01-05            0.017925           -0.000035            0.006083  \n",
       "2021-01-06            0.008682           -0.026929            0.004710  \n",
       "2021-01-07            0.020331            0.027457            0.013847  \n",
       "2021-01-08           -0.011236            0.005204            0.004603  \n",
       "...                        ...                 ...                 ...  \n",
       "2021-07-26            0.024161           -0.002696            0.001827  \n",
       "2021-07-27           -0.021362           -0.009239           -0.005268  \n",
       "2021-07-28           -0.002624           -0.001672           -0.000742  \n",
       "2021-07-29            0.011204            0.000312            0.003539  \n",
       "2021-07-30           -0.000294           -0.006216           -0.006073  \n",
       "\n",
       "[145 rows x 8 columns]"
      ]
     },
     "execution_count": 56,
     "metadata": {},
     "output_type": "execute_result"
    }
   ],
   "source": [
    "returns"
   ]
  },
  {
   "cell_type": "markdown",
   "metadata": {},
   "source": [
    "\\begin{equation}\n",
    "\\mathbb{E}(r_i)-r_f= \\alpha_i + \\beta_{i}(\\mathbb{E}(r_m)-r_f) + \\epsilon_i\n",
    "\\end{equation}"
   ]
  },
  {
   "cell_type": "code",
   "execution_count": 50,
   "metadata": {},
   "outputs": [
    {
     "data": {
      "text/plain": [
       "AAPL                   0\n",
       "INTC                   0\n",
       "MSFT                   0\n",
       "^GSPC                  0\n",
       "excess_return_AAPL     0\n",
       "excess_return_INTC     0\n",
       "excess_return_MSFT     0\n",
       "excess_return_^GSPC    0\n",
       "dtype: int64"
      ]
     },
     "execution_count": 50,
     "metadata": {},
     "output_type": "execute_result"
    }
   ],
   "source": [
    "returns.isnull().sum()"
   ]
  },
  {
   "cell_type": "markdown",
   "metadata": {},
   "source": [
    "## Running CAPM"
   ]
  },
  {
   "cell_type": "markdown",
   "metadata": {},
   "source": [
    "We are ready to run the CAPM analysis after all these preparation process."
   ]
  },
  {
   "cell_type": "code",
   "execution_count": 52,
   "metadata": {},
   "outputs": [],
   "source": [
    "import statsmodels.api as sm\n"
   ]
  },
  {
   "cell_type": "code",
   "execution_count": 57,
   "metadata": {},
   "outputs": [],
   "source": [
    "y_aapl = returns['excess_return_AAPL']\n",
    "X = returns['excess_return_GSPC']"
   ]
  },
  {
   "cell_type": "code",
   "execution_count": 58,
   "metadata": {},
   "outputs": [],
   "source": [
    "X = sm.add_constant(X, prepend=False)\n",
    "capm_aapl = sm.OLS(y_aapl, X)#Ordinary Least Square\n",
    "capm_result_aapl = capm_aapl.fit()"
   ]
  },
  {
   "cell_type": "code",
   "execution_count": 59,
   "metadata": {},
   "outputs": [
    {
     "data": {
      "text/html": [
       "<table class=\"simpletable\">\n",
       "<caption>OLS Regression Results</caption>\n",
       "<tr>\n",
       "  <th>Dep. Variable:</th>    <td>excess_return_AAPL</td> <th>  R-squared:         </th> <td>   0.472</td>\n",
       "</tr>\n",
       "<tr>\n",
       "  <th>Model:</th>                    <td>OLS</td>        <th>  Adj. R-squared:    </th> <td>   0.469</td>\n",
       "</tr>\n",
       "<tr>\n",
       "  <th>Method:</th>              <td>Least Squares</td>   <th>  F-statistic:       </th> <td>   128.0</td>\n",
       "</tr>\n",
       "<tr>\n",
       "  <th>Date:</th>              <td>Thu, 23 Feb 2023</td>  <th>  Prob (F-statistic):</th> <td>1.34e-21</td>\n",
       "</tr>\n",
       "<tr>\n",
       "  <th>Time:</th>                  <td>00:43:01</td>      <th>  Log-Likelihood:    </th> <td>  432.37</td>\n",
       "</tr>\n",
       "<tr>\n",
       "  <th>No. Observations:</th>       <td>   145</td>       <th>  AIC:               </th> <td>  -860.7</td>\n",
       "</tr>\n",
       "<tr>\n",
       "  <th>Df Residuals:</th>           <td>   143</td>       <th>  BIC:               </th> <td>  -854.8</td>\n",
       "</tr>\n",
       "<tr>\n",
       "  <th>Df Model:</th>               <td>     1</td>       <th>                     </th>     <td> </td>   \n",
       "</tr>\n",
       "<tr>\n",
       "  <th>Covariance Type:</th>       <td>nonrobust</td>     <th>                     </th>     <td> </td>   \n",
       "</tr>\n",
       "</table>\n",
       "<table class=\"simpletable\">\n",
       "<tr>\n",
       "           <td></td>             <th>coef</th>     <th>std err</th>      <th>t</th>      <th>P>|t|</th>  <th>[0.025</th>    <th>0.975]</th>  \n",
       "</tr>\n",
       "<tr>\n",
       "  <th>excess_return_GSPC</th> <td>    1.3873</td> <td>    0.123</td> <td>   11.315</td> <td> 0.000</td> <td>    1.145</td> <td>    1.630</td>\n",
       "</tr>\n",
       "<tr>\n",
       "  <th>const</th>              <td>   -0.0006</td> <td>    0.001</td> <td>   -0.568</td> <td> 0.571</td> <td>   -0.003</td> <td>    0.001</td>\n",
       "</tr>\n",
       "</table>\n",
       "<table class=\"simpletable\">\n",
       "<tr>\n",
       "  <th>Omnibus:</th>       <td>11.706</td> <th>  Durbin-Watson:     </th> <td>   1.975</td>\n",
       "</tr>\n",
       "<tr>\n",
       "  <th>Prob(Omnibus):</th> <td> 0.003</td> <th>  Jarque-Bera (JB):  </th> <td>  22.093</td>\n",
       "</tr>\n",
       "<tr>\n",
       "  <th>Skew:</th>          <td>-0.323</td> <th>  Prob(JB):          </th> <td>1.59e-05</td>\n",
       "</tr>\n",
       "<tr>\n",
       "  <th>Kurtosis:</th>      <td> 4.800</td> <th>  Cond. No.          </th> <td>    120.</td>\n",
       "</tr>\n",
       "</table><br/><br/>Notes:<br/>[1] Standard Errors assume that the covariance matrix of the errors is correctly specified."
      ],
      "text/plain": [
       "<class 'statsmodels.iolib.summary.Summary'>\n",
       "\"\"\"\n",
       "                            OLS Regression Results                            \n",
       "==============================================================================\n",
       "Dep. Variable:     excess_return_AAPL   R-squared:                       0.472\n",
       "Model:                            OLS   Adj. R-squared:                  0.469\n",
       "Method:                 Least Squares   F-statistic:                     128.0\n",
       "Date:                Thu, 23 Feb 2023   Prob (F-statistic):           1.34e-21\n",
       "Time:                        00:43:01   Log-Likelihood:                 432.37\n",
       "No. Observations:                 145   AIC:                            -860.7\n",
       "Df Residuals:                     143   BIC:                            -854.8\n",
       "Df Model:                           1                                         \n",
       "Covariance Type:            nonrobust                                         \n",
       "======================================================================================\n",
       "                         coef    std err          t      P>|t|      [0.025      0.975]\n",
       "--------------------------------------------------------------------------------------\n",
       "excess_return_GSPC     1.3873      0.123     11.315      0.000       1.145       1.630\n",
       "const                 -0.0006      0.001     -0.568      0.571      -0.003       0.001\n",
       "==============================================================================\n",
       "Omnibus:                       11.706   Durbin-Watson:                   1.975\n",
       "Prob(Omnibus):                  0.003   Jarque-Bera (JB):               22.093\n",
       "Skew:                          -0.323   Prob(JB):                     1.59e-05\n",
       "Kurtosis:                       4.800   Cond. No.                         120.\n",
       "==============================================================================\n",
       "\n",
       "Notes:\n",
       "[1] Standard Errors assume that the covariance matrix of the errors is correctly specified.\n",
       "\"\"\""
      ]
     },
     "execution_count": 59,
     "metadata": {},
     "output_type": "execute_result"
    }
   ],
   "source": [
    "capm_result_aapl.summary()"
   ]
  },
  {
   "cell_type": "code",
   "execution_count": 60,
   "metadata": {},
   "outputs": [],
   "source": [
    "y_intc = returns['excess_return_INTC']\n",
    "X = returns['excess_return_GSPC']"
   ]
  },
  {
   "cell_type": "code",
   "execution_count": 61,
   "metadata": {},
   "outputs": [],
   "source": [
    "X = sm.add_constant(X, prepend=False)\n",
    "capm_intc = sm.OLS(y_intc, X)#Ordinary Least Square\n",
    "capm_result_intc = capm_intc.fit()"
   ]
  },
  {
   "cell_type": "code",
   "execution_count": 62,
   "metadata": {},
   "outputs": [
    {
     "data": {
      "text/html": [
       "<table class=\"simpletable\">\n",
       "<caption>OLS Regression Results</caption>\n",
       "<tr>\n",
       "  <th>Dep. Variable:</th>    <td>excess_return_INTC</td> <th>  R-squared:         </th> <td>   0.318</td>\n",
       "</tr>\n",
       "<tr>\n",
       "  <th>Model:</th>                    <td>OLS</td>        <th>  Adj. R-squared:    </th> <td>   0.313</td>\n",
       "</tr>\n",
       "<tr>\n",
       "  <th>Method:</th>              <td>Least Squares</td>   <th>  F-statistic:       </th> <td>   66.72</td>\n",
       "</tr>\n",
       "<tr>\n",
       "  <th>Date:</th>              <td>Thu, 23 Feb 2023</td>  <th>  Prob (F-statistic):</th> <td>1.50e-13</td>\n",
       "</tr>\n",
       "<tr>\n",
       "  <th>Time:</th>                  <td>01:06:38</td>      <th>  Log-Likelihood:    </th> <td>  376.58</td>\n",
       "</tr>\n",
       "<tr>\n",
       "  <th>No. Observations:</th>       <td>   145</td>       <th>  AIC:               </th> <td>  -749.2</td>\n",
       "</tr>\n",
       "<tr>\n",
       "  <th>Df Residuals:</th>           <td>   143</td>       <th>  BIC:               </th> <td>  -743.2</td>\n",
       "</tr>\n",
       "<tr>\n",
       "  <th>Df Model:</th>               <td>     1</td>       <th>                     </th>     <td> </td>   \n",
       "</tr>\n",
       "<tr>\n",
       "  <th>Covariance Type:</th>       <td>nonrobust</td>     <th>                     </th>     <td> </td>   \n",
       "</tr>\n",
       "</table>\n",
       "<table class=\"simpletable\">\n",
       "<tr>\n",
       "           <td></td>             <th>coef</th>     <th>std err</th>      <th>t</th>      <th>P>|t|</th>  <th>[0.025</th>    <th>0.975]</th>  \n",
       "</tr>\n",
       "<tr>\n",
       "  <th>excess_return_GSPC</th> <td>    1.4714</td> <td>    0.180</td> <td>    8.168</td> <td> 0.000</td> <td>    1.115</td> <td>    1.828</td>\n",
       "</tr>\n",
       "<tr>\n",
       "  <th>const</th>              <td>   -0.0007</td> <td>    0.002</td> <td>   -0.448</td> <td> 0.655</td> <td>   -0.004</td> <td>    0.002</td>\n",
       "</tr>\n",
       "</table>\n",
       "<table class=\"simpletable\">\n",
       "<tr>\n",
       "  <th>Omnibus:</th>       <td>39.144</td> <th>  Durbin-Watson:     </th> <td>   2.007</td>\n",
       "</tr>\n",
       "<tr>\n",
       "  <th>Prob(Omnibus):</th> <td> 0.000</td> <th>  Jarque-Bera (JB):  </th> <td> 313.968</td>\n",
       "</tr>\n",
       "<tr>\n",
       "  <th>Skew:</th>          <td>-0.609</td> <th>  Prob(JB):          </th> <td>6.65e-69</td>\n",
       "</tr>\n",
       "<tr>\n",
       "  <th>Kurtosis:</th>      <td>10.105</td> <th>  Cond. No.          </th> <td>    120.</td>\n",
       "</tr>\n",
       "</table><br/><br/>Notes:<br/>[1] Standard Errors assume that the covariance matrix of the errors is correctly specified."
      ],
      "text/plain": [
       "<class 'statsmodels.iolib.summary.Summary'>\n",
       "\"\"\"\n",
       "                            OLS Regression Results                            \n",
       "==============================================================================\n",
       "Dep. Variable:     excess_return_INTC   R-squared:                       0.318\n",
       "Model:                            OLS   Adj. R-squared:                  0.313\n",
       "Method:                 Least Squares   F-statistic:                     66.72\n",
       "Date:                Thu, 23 Feb 2023   Prob (F-statistic):           1.50e-13\n",
       "Time:                        01:06:38   Log-Likelihood:                 376.58\n",
       "No. Observations:                 145   AIC:                            -749.2\n",
       "Df Residuals:                     143   BIC:                            -743.2\n",
       "Df Model:                           1                                         \n",
       "Covariance Type:            nonrobust                                         \n",
       "======================================================================================\n",
       "                         coef    std err          t      P>|t|      [0.025      0.975]\n",
       "--------------------------------------------------------------------------------------\n",
       "excess_return_GSPC     1.4714      0.180      8.168      0.000       1.115       1.828\n",
       "const                 -0.0007      0.002     -0.448      0.655      -0.004       0.002\n",
       "==============================================================================\n",
       "Omnibus:                       39.144   Durbin-Watson:                   2.007\n",
       "Prob(Omnibus):                  0.000   Jarque-Bera (JB):              313.968\n",
       "Skew:                          -0.609   Prob(JB):                     6.65e-69\n",
       "Kurtosis:                      10.105   Cond. No.                         120.\n",
       "==============================================================================\n",
       "\n",
       "Notes:\n",
       "[1] Standard Errors assume that the covariance matrix of the errors is correctly specified.\n",
       "\"\"\""
      ]
     },
     "execution_count": 62,
     "metadata": {},
     "output_type": "execute_result"
    }
   ],
   "source": [
    "capm_result_intc.summary()"
   ]
  },
  {
   "cell_type": "code",
   "execution_count": 63,
   "metadata": {},
   "outputs": [],
   "source": [
    "y_msft = returns['excess_return_MSFT']\n",
    "X = returns['excess_return_GSPC']"
   ]
  },
  {
   "cell_type": "code",
   "execution_count": 64,
   "metadata": {},
   "outputs": [],
   "source": [
    "X = sm.add_constant(X, prepend=False)\n",
    "capm_msft = sm.OLS(y_msft, X)#Ordinary Least Square\n",
    "capm_result_msft = capm_msft.fit()"
   ]
  },
  {
   "cell_type": "code",
   "execution_count": 65,
   "metadata": {},
   "outputs": [
    {
     "data": {
      "text/html": [
       "<table class=\"simpletable\">\n",
       "<caption>OLS Regression Results</caption>\n",
       "<tr>\n",
       "  <th>Dep. Variable:</th>    <td>excess_return_MSFT</td> <th>  R-squared:         </th> <td>   0.493</td>\n",
       "</tr>\n",
       "<tr>\n",
       "  <th>Model:</th>                    <td>OLS</td>        <th>  Adj. R-squared:    </th> <td>   0.490</td>\n",
       "</tr>\n",
       "<tr>\n",
       "  <th>Method:</th>              <td>Least Squares</td>   <th>  F-statistic:       </th> <td>   139.3</td>\n",
       "</tr>\n",
       "<tr>\n",
       "  <th>Date:</th>              <td>Thu, 23 Feb 2023</td>  <th>  Prob (F-statistic):</th> <td>7.13e-23</td>\n",
       "</tr>\n",
       "<tr>\n",
       "  <th>Time:</th>                  <td>01:09:14</td>      <th>  Log-Likelihood:    </th> <td>  469.33</td>\n",
       "</tr>\n",
       "<tr>\n",
       "  <th>No. Observations:</th>       <td>   145</td>       <th>  AIC:               </th> <td>  -934.7</td>\n",
       "</tr>\n",
       "<tr>\n",
       "  <th>Df Residuals:</th>           <td>   143</td>       <th>  BIC:               </th> <td>  -928.7</td>\n",
       "</tr>\n",
       "<tr>\n",
       "  <th>Df Model:</th>               <td>     1</td>       <th>                     </th>     <td> </td>   \n",
       "</tr>\n",
       "<tr>\n",
       "  <th>Covariance Type:</th>       <td>nonrobust</td>     <th>                     </th>     <td> </td>   \n",
       "</tr>\n",
       "</table>\n",
       "<table class=\"simpletable\">\n",
       "<tr>\n",
       "           <td></td>             <th>coef</th>     <th>std err</th>      <th>t</th>      <th>P>|t|</th>  <th>[0.025</th>    <th>0.975]</th>  \n",
       "</tr>\n",
       "<tr>\n",
       "  <th>excess_return_GSPC</th> <td>    1.1215</td> <td>    0.095</td> <td>   11.803</td> <td> 0.000</td> <td>    0.934</td> <td>    1.309</td>\n",
       "</tr>\n",
       "<tr>\n",
       "  <th>const</th>              <td>    0.0006</td> <td>    0.001</td> <td>    0.748</td> <td> 0.455</td> <td>   -0.001</td> <td>    0.002</td>\n",
       "</tr>\n",
       "</table>\n",
       "<table class=\"simpletable\">\n",
       "<tr>\n",
       "  <th>Omnibus:</th>       <td> 3.760</td> <th>  Durbin-Watson:     </th> <td>   1.897</td>\n",
       "</tr>\n",
       "<tr>\n",
       "  <th>Prob(Omnibus):</th> <td> 0.153</td> <th>  Jarque-Bera (JB):  </th> <td>   4.289</td>\n",
       "</tr>\n",
       "<tr>\n",
       "  <th>Skew:</th>          <td>-0.102</td> <th>  Prob(JB):          </th> <td>   0.117</td>\n",
       "</tr>\n",
       "<tr>\n",
       "  <th>Kurtosis:</th>      <td> 3.817</td> <th>  Cond. No.          </th> <td>    120.</td>\n",
       "</tr>\n",
       "</table><br/><br/>Notes:<br/>[1] Standard Errors assume that the covariance matrix of the errors is correctly specified."
      ],
      "text/plain": [
       "<class 'statsmodels.iolib.summary.Summary'>\n",
       "\"\"\"\n",
       "                            OLS Regression Results                            \n",
       "==============================================================================\n",
       "Dep. Variable:     excess_return_MSFT   R-squared:                       0.493\n",
       "Model:                            OLS   Adj. R-squared:                  0.490\n",
       "Method:                 Least Squares   F-statistic:                     139.3\n",
       "Date:                Thu, 23 Feb 2023   Prob (F-statistic):           7.13e-23\n",
       "Time:                        01:09:14   Log-Likelihood:                 469.33\n",
       "No. Observations:                 145   AIC:                            -934.7\n",
       "Df Residuals:                     143   BIC:                            -928.7\n",
       "Df Model:                           1                                         \n",
       "Covariance Type:            nonrobust                                         \n",
       "======================================================================================\n",
       "                         coef    std err          t      P>|t|      [0.025      0.975]\n",
       "--------------------------------------------------------------------------------------\n",
       "excess_return_GSPC     1.1215      0.095     11.803      0.000       0.934       1.309\n",
       "const                  0.0006      0.001      0.748      0.455      -0.001       0.002\n",
       "==============================================================================\n",
       "Omnibus:                        3.760   Durbin-Watson:                   1.897\n",
       "Prob(Omnibus):                  0.153   Jarque-Bera (JB):                4.289\n",
       "Skew:                          -0.102   Prob(JB):                        0.117\n",
       "Kurtosis:                       3.817   Cond. No.                         120.\n",
       "==============================================================================\n",
       "\n",
       "Notes:\n",
       "[1] Standard Errors assume that the covariance matrix of the errors is correctly specified.\n",
       "\"\"\""
      ]
     },
     "execution_count": 65,
     "metadata": {},
     "output_type": "execute_result"
    }
   ],
   "source": [
    "capm_result_msft.summary()"
   ]
  },
  {
   "cell_type": "code",
   "execution_count": 69,
   "metadata": {},
   "outputs": [
    {
     "data": {
      "text/plain": [
       "1.1215432450312623"
      ]
     },
     "execution_count": 69,
     "metadata": {},
     "output_type": "execute_result"
    }
   ],
   "source": [
    "capm_result_msft.params[0]"
   ]
  },
  {
   "cell_type": "markdown",
   "metadata": {},
   "source": [
    "First, we run the CAPM analysis for `Apple` and it turns out that Apple is more volatile than the S&P-500 as we have a beta coefficient of 1.3873. This estimated beta coefficient is statistically significant at 1% level since we have a p-value of 0.0000). However, the intercept term is not statistically significant. Therefore, interpretation of the intercept term, which indicates the performance of the technical analysis, does not make sense."
   ]
  },
  {
   "cell_type": "markdown",
   "metadata": {},
   "source": [
    "When it comes to `Intel`, the result is quite similar in terms of slope coefficien $\\beta$ and intercept term. The beta coefficient of 1.4777 implies that there is a correlation between excess market return and excess return of the Intel. More specifically, 1-unit increase in S&P-500 leads to an increase in IBM return by nearly 1.4777 The result also suggests that the Intel is more risky than market index.  Again, the intercept term is not statistically significant at conventional confidence interval."
   ]
  },
  {
   "cell_type": "markdown",
   "metadata": {},
   "source": [
    "`Microsoft` does tell us a similar story with positive and statistically significant beta coefficient and statistically insignificant intercept term. The magnitude of beta coefficient is 1.1215 indicating that 1-unit increase in S&P-500 results in an increase of 1.1215 in Microsoft's return."
   ]
  },
  {
   "cell_type": "markdown",
   "metadata": {},
   "source": [
    "## Compare the Performance"
   ]
  },
  {
   "cell_type": "markdown",
   "metadata": {},
   "source": [
    "CAPM is also a tool for investor to understand whether an asset is fairly priced. To determine that, we need to use $\\beta$ that we obtained from CAPM analysis and compare with the investor estimates. The `Security Market Line`(SML) is able to test whether securities are fairly priced or not."
   ]
  },
  {
   "cell_type": "markdown",
   "metadata": {},
   "source": [
    "More elaborately, SML exhibits the linear relationship between expected asset returns and betas obtained from CAPM. All the correctly priced securities are plotted on the SML. If the assets lie above the SML line, the assets are undervalued due to the higher return for a given amount of risk. Conversely, the assets lie below the SML are overvalued because it return of this stock is lower for a given amount of risk."
   ]
  },
  {
   "cell_type": "code",
   "execution_count": 66,
   "metadata": {},
   "outputs": [],
   "source": [
    "def SML(rf, ret, betas):\n",
    "    asset_ret = [rf + (rm-rf)* i for i in betas]\n",
    "    plt.plot(betas, asset_ret)\n",
    "    plt.xlabel('Systematic Risk')\n",
    "    plt.ylabel('Asset Return')\n",
    "    plt.title('SML')\n",
    "    plt.plot(1,ret, 'ro')"
   ]
  },
  {
   "cell_type": "code",
   "execution_count": 70,
   "metadata": {},
   "outputs": [],
   "source": [
    "rf = risk_free.mean()\n",
    "rm = returns['GSPC'].mean()\n",
    "betas = [capm_result_aapl.params[0], capm_result_intc.params[0], capm_result_msft.params[0]]"
   ]
  },
  {
   "cell_type": "code",
   "execution_count": 71,
   "metadata": {},
   "outputs": [
    {
     "data": {
      "image/png": "[encoded data removed]",
      "text/plain": [
       "<Figure size 432x288 with 1 Axes>"
      ]
     },
     "metadata": {
      "needs_background": "light"
     },
     "output_type": "display_data"
    }
   ],
   "source": [
    "SML(rf, rm, betas)"
   ]
  },
  {
   "cell_type": "markdown",
   "metadata": {},
   "source": [
    "Given the beta, if the stock return locates below the SML, this implies that stock has a higher return per unit of risk assumed. Hence, it can be concluded that the stock is overvalued and decide to sell the stock. Conversely, if the stock locates above the SML, stock has a lower return per unit of risk assumed, which is considered to be undervalued and buying a stock would be wise choice. "
   ]
  },
  {
   "cell_type": "markdown",
   "metadata": {},
   "source": [
    "Now suppose that the return expectations for \n",
    "\n",
    "* Apple is 0.1% \n",
    "* Intel is 0.25%\n",
    "* Microsoft is 0.09%\n"
   ]
  },
  {
   "cell_type": "code",
   "execution_count": 81,
   "metadata": {},
   "outputs": [],
   "source": [
    "ret_exp = [0.001, 0.0025, 0.0009]\n",
    "df_ret_exp = pd.DataFrame(ret_exp)\n",
    "df_betas = pd.DataFrame(betas)\n",
    "df_all = pd.concat([df_betas, df_ret_exp], axis=1)\n",
    "df_all.columns = ['betas', 'ret_exp']"
   ]
  },
  {
   "cell_type": "code",
   "execution_count": 82,
   "metadata": {},
   "outputs": [
    {
     "data": {
      "text/html": [
       "<div>\n",
       "<style scoped>\n",
       "    .dataframe tbody tr th:only-of-type {\n",
       "        vertical-align: middle;\n",
       "    }\n",
       "\n",
       "    .dataframe tbody tr th {\n",
       "        vertical-align: top;\n",
       "    }\n",
       "\n",
       "    .dataframe thead th {\n",
       "        text-align: right;\n",
       "    }\n",
       "</style>\n",
       "<table border=\"1\" class=\"dataframe\">\n",
       "  <thead>\n",
       "    <tr style=\"text-align: right;\">\n",
       "      <th></th>\n",
       "      <th>betas</th>\n",
       "      <th>ret_exp</th>\n",
       "    </tr>\n",
       "  </thead>\n",
       "  <tbody>\n",
       "    <tr>\n",
       "      <th>0</th>\n",
       "      <td>1.387349</td>\n",
       "      <td>0.0010</td>\n",
       "    </tr>\n",
       "    <tr>\n",
       "      <th>1</th>\n",
       "      <td>1.471438</td>\n",
       "      <td>0.0025</td>\n",
       "    </tr>\n",
       "    <tr>\n",
       "      <th>2</th>\n",
       "      <td>1.121543</td>\n",
       "      <td>0.0009</td>\n",
       "    </tr>\n",
       "  </tbody>\n",
       "</table>\n",
       "</div>"
      ],
      "text/plain": [
       "      betas  ret_exp\n",
       "0  1.387349   0.0010\n",
       "1  1.471438   0.0025\n",
       "2  1.121543   0.0009"
      ]
     },
     "execution_count": 82,
     "metadata": {},
     "output_type": "execute_result"
    }
   ],
   "source": [
    "df_all"
   ]
  },
  {
   "cell_type": "code",
   "execution_count": 83,
   "metadata": {},
   "outputs": [],
   "source": [
    "df_all.index = returns.columns[:3]"
   ]
  },
  {
   "cell_type": "code",
   "execution_count": 84,
   "metadata": {},
   "outputs": [
    {
     "data": {
      "text/html": [
       "<div>\n",
       "<style scoped>\n",
       "    .dataframe tbody tr th:only-of-type {\n",
       "        vertical-align: middle;\n",
       "    }\n",
       "\n",
       "    .dataframe tbody tr th {\n",
       "        vertical-align: top;\n",
       "    }\n",
       "\n",
       "    .dataframe thead th {\n",
       "        text-align: right;\n",
       "    }\n",
       "</style>\n",
       "<table border=\"1\" class=\"dataframe\">\n",
       "  <thead>\n",
       "    <tr style=\"text-align: right;\">\n",
       "      <th></th>\n",
       "      <th>betas</th>\n",
       "      <th>ret_exp</th>\n",
       "    </tr>\n",
       "  </thead>\n",
       "  <tbody>\n",
       "    <tr>\n",
       "      <th>AAPL</th>\n",
       "      <td>1.387349</td>\n",
       "      <td>0.0010</td>\n",
       "    </tr>\n",
       "    <tr>\n",
       "      <th>INTC</th>\n",
       "      <td>1.471438</td>\n",
       "      <td>0.0025</td>\n",
       "    </tr>\n",
       "    <tr>\n",
       "      <th>MSFT</th>\n",
       "      <td>1.121543</td>\n",
       "      <td>0.0009</td>\n",
       "    </tr>\n",
       "  </tbody>\n",
       "</table>\n",
       "</div>"
      ],
      "text/plain": [
       "         betas  ret_exp\n",
       "AAPL  1.387349   0.0010\n",
       "INTC  1.471438   0.0025\n",
       "MSFT  1.121543   0.0009"
      ]
     },
     "execution_count": 84,
     "metadata": {},
     "output_type": "execute_result"
    }
   ],
   "source": [
    "df_all"
   ]
  },
  {
   "cell_type": "code",
   "execution_count": 85,
   "metadata": {},
   "outputs": [],
   "source": [
    "def over_valued(rf, rm, stock):\n",
    "    x = rf + (rm - rf)*df_all['betas'].loc[stock]\n",
    "    y = df_all['ret_exp'].loc[stock]\n",
    "    if x < y:\n",
    "        print('The stock is undervalued')\n",
    "    elif x > y:\n",
    "        print('The stock is overvalued')\n",
    "    else:\n",
    "        print('The stock is fairly priced')\n",
    "    "
   ]
  },
  {
   "cell_type": "code",
   "execution_count": 86,
   "metadata": {},
   "outputs": [
    {
     "name": "stdout",
     "output_type": "stream",
     "text": [
      "The stock is overvalued\n"
     ]
    }
   ],
   "source": [
    "over_valued(rf, rm, 'AAPL')"
   ]
  },
  {
   "cell_type": "code",
   "execution_count": 87,
   "metadata": {},
   "outputs": [
    {
     "name": "stdout",
     "output_type": "stream",
     "text": [
      "The stock is undervalued\n"
     ]
    }
   ],
   "source": [
    "over_valued(rf, rm, 'INTC')"
   ]
  },
  {
   "cell_type": "code",
   "execution_count": 88,
   "metadata": {},
   "outputs": [
    {
     "name": "stdout",
     "output_type": "stream",
     "text": [
      "The stock is overvalued\n"
     ]
    }
   ],
   "source": [
    "over_valued(rf, rm, 'MSFT')"
   ]
  },
  {
   "cell_type": "markdown",
   "metadata": {},
   "source": [
    "Now, it seem like you obtained  every inputs required to compute the ratios used for gauging the risk-reward combinations. We will do that using the scenarios provided in the instructions. Let me start with the first scenario, which is:\n",
    "\n",
    "* If portfolio is not well-diversified\n",
    "\n",
    "In this scenario, we are supposed to use Sharpe ratio in that if an investor holds a portfolio that is not fully diversified, total risk matters and Sharpe ratio consider the total risk. Recall that Sharpe ratio is:\n",
    "\n",
    "\\begin{equation}Sharpe=\\frac{r_i-r_f}{\\sigma_i}\\end{equation}\n",
    "\n",
    "where $r_i$ and $\\sigma_i$ denote return and standard deviation of the stock, respectively."
   ]
  },
  {
   "cell_type": "code",
   "execution_count": 92,
   "metadata": {},
   "outputs": [],
   "source": [
    "def sharpe(stocks, rf, n_assets):\n",
    "    sharpe_ratios = {}\n",
    "    for i, j in zip(stocks, range(n_assets)):\n",
    "        sharpe_ratios[i] = round((returns.iloc[:,j].mean()-rf)/np.std(returns.iloc[:,j]),4)\n",
    "    return sharpe_ratios"
   ]
  },
  {
   "cell_type": "code",
   "execution_count": 96,
   "metadata": {},
   "outputs": [
    {
     "data": {
      "text/plain": [
       "{'AAPL': 0.0208, 'INTC': 0.0145, 'MSFT': 0.1013}"
      ]
     },
     "execution_count": 96,
     "metadata": {},
     "output_type": "execute_result"
    }
   ],
   "source": [
    "stocks = returns.columns[:3]\n",
    "n_assets = 3\n",
    "sharpe_ratios = sharpe(stocks, rf, n_assets)\n",
    "sharpe_ratios"
   ]
  },
  {
   "cell_type": "markdown",
   "metadata": {},
   "source": [
    "The second scenario is:\n",
    "* If portfolio is well-diversified\n",
    "\n",
    "This is an ideal situation for Treynor ratio, because Treynor ratio takes systematic risk into account to assess the risk-reward situation of an asset or a portfolio."
   ]
  },
  {
   "cell_type": "markdown",
   "metadata": {},
   "source": [
    "\\begin{equation}\\text{Treynor ratio}=\\frac{r_i-r_f}{\\beta_i}\\end{equation}"
   ]
  },
  {
   "cell_type": "code",
   "execution_count": 100,
   "metadata": {},
   "outputs": [],
   "source": [
    "def treynor(stocks, rf, n_assets):\n",
    "    treynor_ratios = {}\n",
    "    for i, stock in enumerate(stocks):\n",
    "        treynor_ratios[stock] = round((returns.iloc[:, i].mean() - rf) / df_all['betas'][stock], 4)\n",
    "    return treynor_ratios"
   ]
  },
  {
   "cell_type": "code",
   "execution_count": 101,
   "metadata": {},
   "outputs": [
    {
     "data": {
      "text/plain": [
       "{'AAPL': 0.0003, 'INTC': 0.0002, 'MSFT': 0.0012}"
      ]
     },
     "execution_count": 101,
     "metadata": {},
     "output_type": "execute_result"
    }
   ],
   "source": [
    "treynor_ratios = treynor(stocks, rf, n_assets)\n",
    "treynor_ratios"
   ]
  },
  {
   "cell_type": "markdown",
   "metadata": {},
   "source": [
    "It is time to interpret the result. Let's start off with the Sharpe ratio. The higher the Sharpe ratio is, the higher the return we gain per risk is. In this context, we are looking for highest stock with Sharpe ratio, which is `Microsoft`. "
   ]
  },
  {
   "cell_type": "code",
   "execution_count": 98,
   "metadata": {},
   "outputs": [
    {
     "name": "stdout",
     "output_type": "stream",
     "text": [
      "MSFT\n",
      "0.1013\n"
     ]
    }
   ],
   "source": [
    "print(max(sharpe_ratios, key=sharpe_ratios.get)) \n",
    "print(max(sharpe_ratios.values()))"
   ]
  },
  {
   "cell_type": "markdown",
   "metadata": {},
   "source": [
    "The `INTC` has the lowest Sharpe ratio indicating that it assumes higher risk per return in relative to other stocks considered."
   ]
  },
  {
   "cell_type": "code",
   "execution_count": 99,
   "metadata": {},
   "outputs": [
    {
     "name": "stdout",
     "output_type": "stream",
     "text": [
      "INTC\n",
      "0.0145\n"
     ]
    }
   ],
   "source": [
    "print(min(sharpe_ratios, key=sharpe_ratios.get)) \n",
    "print(min(sharpe_ratios.values()))"
   ]
  },
  {
   "cell_type": "markdown",
   "metadata": {},
   "source": [
    "Once we calculate maximum and minimum Treynor ratios, it turns out that the results confirm the one we found via Sharpe ratio. Still, the most and least feasible stocks are Intel and Apple, respectively."
   ]
  },
  {
   "cell_type": "code",
   "execution_count": 104,
   "metadata": {},
   "outputs": [
    {
     "name": "stdout",
     "output_type": "stream",
     "text": [
      "MSFT\n",
      "0.0012\n"
     ]
    }
   ],
   "source": [
    "print(max(treynor_ratios, key=treynor_ratios.get)) \n",
    "print(max(treynor_ratios.values()))"
   ]
  },
  {
   "cell_type": "code",
   "execution_count": 105,
   "metadata": {},
   "outputs": [
    {
     "name": "stdout",
     "output_type": "stream",
     "text": [
      "INTC\n",
      "0.0002\n"
     ]
    }
   ],
   "source": [
    "print(min(treynor_ratios, key=treynor_ratios.get)) \n",
    "print(min(treynor_ratios.values()))"
   ]
  }
 ],
 "metadata": {
  "kernelspec": {
   "display_name": "Python 3 (ipykernel)",
   "language": "python",
   "name": "python3"
  },
  "language_info": {
   "codemirror_mode": {
    "name": "ipython",
    "version": 3
   },
   "file_extension": ".py",
   "mimetype": "text/x-python",
   "name": "python",
   "nbconvert_exporter": "python",
   "pygments_lexer": "ipython3",
   "version": "3.9.7"
  },
  "latex_envs": {
   "LaTeX_envs_menu_present": true,
   "autoclose": false,
   "autocomplete": true,
   "bibliofile": "biblio.bib",
   "cite_by": "apalike",
   "current_citInitial": 1,
   "eqLabelWithNumbers": true,
   "eqNumInitial": 1,
   "hotkeys": {
    "equation": "Ctrl-E",
    "itemize": "Ctrl-I"
   },
   "labels_anchors": false,
   "latex_user_defs": false,
   "report_style_numbering": false,
   "user_envs_cfg": false
  },
  "toc": {
   "base_numbering": 1,
   "nav_menu": {},
   "number_sections": false,
   "sideBar": true,
   "skip_h1_title": false,
   "title_cell": "Table of Contents",
   "title_sidebar": "Contents",
   "toc_cell": false,
   "toc_position": {},
   "toc_section_display": true,
   "toc_window_display": false
  }
 },
 "nbformat": 4,
 "nbformat_minor": 4
}
