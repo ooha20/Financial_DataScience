{
 "cells": [
  {
   "cell_type": "markdown",
   "metadata": {},
   "source": [
    "# Assignment 1"
   ]
  },
  {
   "cell_type": "markdown",
   "metadata": {},
   "source": [
    "### Feedback:\n",
    "- Confidence interval to be calculated for stock's return values and not the closing values.(-10)\n",
    "\n",
    "#### Grades (90)"
   ]
  },
  {
   "cell_type": "markdown",
   "metadata": {},
   "source": [
    "__Q1__. Generate a random sample using a distribution of your choice via `np.random` package. Then, using normal distribution as a benchmark distribution (on the x-axis) please, \n",
    "\n",
    "a) Draw the histogram and interpret \n",
    "\n",
    "b) Draw Q-Q plot and interpret"
   ]
  },
  {
   "cell_type": "code",
   "execution_count": 4,
   "metadata": {},
   "outputs": [
    {
     "name": "stdout",
     "output_type": "stream",
     "text": [
      "               dist\n",
      "count  20000.000000\n",
      "mean      39.942017\n",
      "std       17.830036\n",
      "min        3.244551\n",
      "25%       26.916727\n",
      "50%       37.417790\n",
      "75%       50.214861\n",
      "max      152.185444\n"
     ]
    },
    {
     "data": {
      "image/png": "[encoded data removed]",
      "text/plain": [
       "<Figure size 432x288 with 1 Axes>"
      ]
     },
     "metadata": {
      "needs_background": "light"
     },
     "output_type": "display_data"
    }
   ],
   "source": [
    "# answer here\n",
    "import numpy as np\n",
    "import pandas as pd\n",
    "import matplotlib.pyplot as plt\n",
    "import statsmodels.api as sm\n",
    "\n",
    "dist = np.random.gamma(5, 8, size=20000)\n",
    "dist = pd.DataFrame({'dist': dist})\n",
    "\n",
    "print(dist.describe())\n",
    "\n",
    "dist.hist()\n",
    "plt.show()\n",
    "\n",
    "\n"
   ]
  },
  {
   "cell_type": "code",
   "execution_count": 14,
   "metadata": {},
   "outputs": [
    {
     "data": {
      "image/png": "[encoded data removed]",
      "text/plain": [
       "<Figure size 432x288 with 1 Axes>"
      ]
     },
     "metadata": {
      "needs_background": "light"
     },
     "output_type": "display_data"
    },
    {
     "name": "stdout",
     "output_type": "stream",
     "text": [
      "Max:  152.18544428063998\n",
      "Min:  3.244551013092797\n"
     ]
    }
   ],
   "source": [
    "import random\n",
    "sm.qqplot(dist['dist'], line='45')\n",
    "plt.show()\n",
    "print(\"Max: \", dist['dist'].max())\n",
    "print(\"Min: \", dist['dist'].min())\n",
    "#sm.qqplot(data,line='45')\n",
    "\n",
    "#plt.show()"
   ]
  },
  {
   "cell_type": "markdown",
   "metadata": {},
   "source": [
    "If the data points on the qq plot are at a 45-degree angle, then the relationship between the theoretical and sample values is symmetrical. It is not a normal distribution since the sample quantities differ in this instance.Finding out if the data points form a normal distribution or not can be done with the help of a qq-plot."
   ]
  },
  {
   "cell_type": "markdown",
   "metadata": {},
   "source": [
    "__Q2__. Import `aapl.csv` data and plot the histogram and calculate the mean and standard deviation. Comment on these statistics."
   ]
  },
  {
   "cell_type": "code",
   "execution_count": 15,
   "metadata": {},
   "outputs": [
    {
     "data": {
      "text/html": [
       "<div>\n",
       "<style scoped>\n",
       "    .dataframe tbody tr th:only-of-type {\n",
       "        vertical-align: middle;\n",
       "    }\n",
       "\n",
       "    .dataframe tbody tr th {\n",
       "        vertical-align: top;\n",
       "    }\n",
       "\n",
       "    .dataframe thead th {\n",
       "        text-align: right;\n",
       "    }\n",
       "</style>\n",
       "<table border=\"1\" class=\"dataframe\">\n",
       "  <thead>\n",
       "    <tr style=\"text-align: right;\">\n",
       "      <th></th>\n",
       "      <th>Close</th>\n",
       "    </tr>\n",
       "    <tr>\n",
       "      <th>Date</th>\n",
       "      <th></th>\n",
       "    </tr>\n",
       "  </thead>\n",
       "  <tbody>\n",
       "    <tr>\n",
       "      <th>2019-12-31</th>\n",
       "      <td>73.412498</td>\n",
       "    </tr>\n",
       "    <tr>\n",
       "      <th>2020-01-02</th>\n",
       "      <td>75.087502</td>\n",
       "    </tr>\n",
       "    <tr>\n",
       "      <th>2020-01-03</th>\n",
       "      <td>74.357498</td>\n",
       "    </tr>\n",
       "    <tr>\n",
       "      <th>2020-01-06</th>\n",
       "      <td>74.949997</td>\n",
       "    </tr>\n",
       "    <tr>\n",
       "      <th>2020-01-07</th>\n",
       "      <td>74.597504</td>\n",
       "    </tr>\n",
       "    <tr>\n",
       "      <th>...</th>\n",
       "      <td>...</td>\n",
       "    </tr>\n",
       "    <tr>\n",
       "      <th>2021-07-26</th>\n",
       "      <td>148.990005</td>\n",
       "    </tr>\n",
       "    <tr>\n",
       "      <th>2021-07-27</th>\n",
       "      <td>146.770004</td>\n",
       "    </tr>\n",
       "    <tr>\n",
       "      <th>2021-07-28</th>\n",
       "      <td>144.979996</td>\n",
       "    </tr>\n",
       "    <tr>\n",
       "      <th>2021-07-29</th>\n",
       "      <td>145.639999</td>\n",
       "    </tr>\n",
       "    <tr>\n",
       "      <th>2021-07-30</th>\n",
       "      <td>145.860001</td>\n",
       "    </tr>\n",
       "  </tbody>\n",
       "</table>\n",
       "<p>399 rows × 1 columns</p>\n",
       "</div>"
      ],
      "text/plain": [
       "                 Close\n",
       "Date                  \n",
       "2019-12-31   73.412498\n",
       "2020-01-02   75.087502\n",
       "2020-01-03   74.357498\n",
       "2020-01-06   74.949997\n",
       "2020-01-07   74.597504\n",
       "...                ...\n",
       "2021-07-26  148.990005\n",
       "2021-07-27  146.770004\n",
       "2021-07-28  144.979996\n",
       "2021-07-29  145.639999\n",
       "2021-07-30  145.860001\n",
       "\n",
       "[399 rows x 1 columns]"
      ]
     },
     "execution_count": 15,
     "metadata": {},
     "output_type": "execute_result"
    }
   ],
   "source": [
    "# answer here\n",
    "aaplfile = pd.read_csv(r'C:\\Users\\OneDrive\\Desktop\\690\\Aapl.csv')\n",
    "aaplfile.set_index('Date',inplace=True)\n",
    "aaplfile"
   ]
  },
  {
   "cell_type": "code",
   "execution_count": 16,
   "metadata": {},
   "outputs": [
    {
     "data": {
      "image/png": "[encoded data removed]",
      "text/plain": [
       "<Figure size 432x288 with 1 Axes>"
      ]
     },
     "metadata": {
      "needs_background": "light"
     },
     "output_type": "display_data"
    }
   ],
   "source": [
    "import pandas as pd\n",
    "import matplotlib.pyplot as plt\n",
    "\n",
    "aaplfile = pd.read_csv(r'C:\\Users\\OneDrive\\Desktop\\690\\Aapl.csv')\n",
    "aaplfile.set_index('Date', inplace=True)\n",
    "\n",
    "aaplfile.hist(bins=100, edgecolor='black')\n",
    "plt.xlabel(\"Values\")\n",
    "plt.ylabel(\"Frequency\")\n",
    "plt.title(\"Histogram of Apple Stock Prices\")\n",
    "plt.show()\n"
   ]
  },
  {
   "cell_type": "markdown",
   "metadata": {},
   "source": [
    "Two sets of normal-distributed data are represented by the graph shown.\n",
    "\n",
    "The average is 108 over 400 data points. Because the mean is a little bit higher than 25% of the values, the extreme data points had an impact on the overall mean.\n",
    "\n",
    "Despite the fact that the line is flat, the straight bump of the data points led to the overall standard deviation of 25 for the provided collection of points."
   ]
  },
  {
   "cell_type": "markdown",
   "metadata": {},
   "source": [
    "__Q3__. Given the mean return and standard deviation of apple stock, calculate the confidence interval for return mean.\n",
    "\n",
    "**Hint-1:** Use z-table for the critical value and justify why you are using z-table.\n",
    "\n",
    "**Hint-2:** The confidence interval can be computed as:\n",
    "\\begin{equation}\n",
    "\\overline{Y} + z_{\\alpha/2, n-1}s_{\\overline{Y}}\n",
    "\\end{equation}"
   ]
  },
  {
   "cell_type": "markdown",
   "metadata": {},
   "source": [
    "The calculation yields the 95 interval's alpha.\n",
    "(1-0.95)/2 = 0.05/2 = 0.025\n",
    "1.96 is the z value for this.\n",
    "We can quickly find the critical value by utilizing the z-score since we already know the sd and mean of the data."
   ]
  },
  {
   "cell_type": "code",
   "execution_count": 13,
   "metadata": {},
   "outputs": [
    {
     "name": "stdout",
     "output_type": "stream",
     "text": [
      "the confidence interval(95%)for the given mean and z value is (107.87,108.85)\n"
     ]
    }
   ],
   "source": [
    "# answer here\n",
    "err = ((1.96)*np.sqrt(25))/np.sqrt(400)\n",
    "err\n",
    "print(f'the confidence interval(95%)for the given mean and z value is ({108.36-err},{108.36+err})')"
   ]
  }
 ],
 "metadata": {
  "kernelspec": {
   "display_name": "Python 3 (ipykernel)",
   "language": "python",
   "name": "python3"
  },
  "language_info": {
   "codemirror_mode": {
    "name": "ipython",
    "version": 3
   },
   "file_extension": ".py",
   "mimetype": "text/x-python",
   "name": "python",
   "nbconvert_exporter": "python",
   "pygments_lexer": "ipython3",
   "version": "3.9.7"
  },
  "latex_envs": {
   "LaTeX_envs_menu_present": true,
   "autoclose": false,
   "autocomplete": true,
   "bibliofile": "biblio.bib",
   "cite_by": "apalike",
   "current_citInitial": 1,
   "eqLabelWithNumbers": true,
   "eqNumInitial": 1,
   "hotkeys": {
    "equation": "Ctrl-E",
    "itemize": "Ctrl-I"
   },
   "labels_anchors": false,
   "latex_user_defs": false,
   "report_style_numbering": false,
   "user_envs_cfg": false
  },
  "toc": {
   "base_numbering": 1,
   "nav_menu": {},
   "number_sections": false,
   "sideBar": true,
   "skip_h1_title": false,
   "title_cell": "Table of Contents",
   "title_sidebar": "Contents",
   "toc_cell": false,
   "toc_position": {},
   "toc_section_display": true,
   "toc_window_display": false
  }
 },
 "nbformat": 4,
 "nbformat_minor": 2
}
